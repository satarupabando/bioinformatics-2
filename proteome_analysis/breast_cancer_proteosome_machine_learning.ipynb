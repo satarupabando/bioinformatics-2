{
 "cells": [
  {
   "cell_type": "markdown",
   "metadata": {},
   "source": [
    "## Overview\n",
    "\n",
    "### Rationale\n",
    "I was quite unhappy with the machine learning part of breast_cancer_proteosome_analysis. Especially considering 'basal-lie', 'HER2', 'LumA', 'LumB' are quite different, I should be able to seperate these four cancer types apart.\n",
    "In the previous notebook, I only used 2 models: K-neighbors and svm.SVC. However, I didn't explore all the way to finetune the models to get better performance.\n",
    "\n",
    "One key step in real-world machine learning is about **extracting the correct feature sets**. It is a combination of application of domain knowledge and statistical analysis. In the breast_cancer_proteosome_analysis, I directly chose the PAM50 genes as the feature sets. Here, I will explore the 'statistical way' to extract features using scikit learn\n",
    "**sklearn.feature_selection**. Notice here I didn't try feature union here, which is pretty handy most of the time. (I tried, the performance is not getting better.)\n",
    "\n",
    "Another key point is utilizing **pipeline**. Pipelines work by allowing for a linear sequence of data transforms to be chained together culminating in a modeling process that can be evaluated. The goal is to ensure that all of the steps in the pipeline are constrained to the data available for the evaluation. This is actually pretty important\n",
    "\n",
    "### Outline\n",
    "1. Prep data\n",
    "2. Feature Extraction\n",
    "3. Pipeline & Gridsearch\n",
    "\n",
    "### Result\n",
    "The performance that we get is much better than the previous model."
   ]
  },
  {
   "cell_type": "code",
   "execution_count": 138,
   "metadata": {
    "collapsed": true
   },
   "outputs": [],
   "source": [
    "# import the modules that are needed.\n",
    "% matplotlib inline\n",
    "import numpy as np\n",
    "import pandas as pd\n",
    "import matplotlib.pyplot as plt\n",
    "\n",
    "import itertools\n",
    "\n",
    "from sklearn.grid_search import GridSearchCV\n",
    "from sklearn import svm\n",
    "from sklearn.svm import SVC\n",
    "from sklearn.preprocessing import Imputer\n",
    "from sklearn.cross_validation import train_test_split\n",
    "from sklearn.cross_validation import KFold\n",
    "from sklearn.pipeline import Pipeline\n",
    "from sklearn.pipeline import make_pipeline"
   ]
  },
  {
   "cell_type": "markdown",
   "metadata": {},
   "source": [
    "### Prepare the data\n",
    "Most of the data prep part was done in 'breast_cancer_proteosome_analysis'."
   ]
  },
  {
   "cell_type": "code",
   "execution_count": 2,
   "metadata": {
    "collapsed": true
   },
   "outputs": [],
   "source": [
    "merge = pd.read_csv('merge_proteome_clinic.csv', index_col=0)"
   ]
  },
  {
   "cell_type": "code",
   "execution_count": 3,
   "metadata": {
    "collapsed": true
   },
   "outputs": [],
   "source": [
    "proteome = merge.ix[:, :12553]"
   ]
  },
  {
   "cell_type": "code",
   "execution_count": 4,
   "metadata": {
    "collapsed": true
   },
   "outputs": [],
   "source": [
    "imputer = Imputer(missing_values='NaN', strategy='median', axis=1)\n",
    "imputer = imputer.fit(proteome)\n",
    "processed_proteome = imputer.transform(proteome)"
   ]
  },
  {
   "cell_type": "code",
   "execution_count": 116,
   "metadata": {
    "collapsed": true
   },
   "outputs": [],
   "source": [
    "X = processed_proteome"
   ]
  },
  {
   "cell_type": "code",
   "execution_count": 117,
   "metadata": {
    "collapsed": true
   },
   "outputs": [],
   "source": [
    "merge['PAM50 mRNA'] = merge['PAM50 mRNA'].astype('category')\n",
    "merge['PAM50_mRNA_label'] = merge['PAM50 mRNA'].cat.codes"
   ]
  },
  {
   "cell_type": "code",
   "execution_count": 118,
   "metadata": {
    "collapsed": true
   },
   "outputs": [],
   "source": [
    "y = merge['PAM50_mRNA_label'].values"
   ]
  },
  {
   "cell_type": "markdown",
   "metadata": {},
   "source": [
    "### Feature Extraction\n",
    "Scikit learn provides a pretty nice module called feature_selection to do this statistically.    \n",
    "Personally, I don't really understand the details of the mechanism of different score_func.    \n",
    "Here is a link of a blog by Jason Brownlee which talks about the feature selection for ML in python:    \n",
    "http://machinelearningmastery.com/feature-selection-machine-learning-python/"
   ]
  },
  {
   "cell_type": "code",
   "execution_count": 126,
   "metadata": {
    "collapsed": false
   },
   "outputs": [],
   "source": [
    "from sklearn.feature_selection import SelectKBest\n",
    "from sklearn.feature_selection import chi2, f_classif, f_regression\n",
    "# feature extraction\n",
    "test = SelectKBest(score_func=f_classif, k=185)\n",
    "fit = test.fit(X, y)\n",
    "# summarize scores\n",
    "np.set_printoptions(precision=3)\n",
    "features = fit.transform(X)"
   ]
  },
  {
   "cell_type": "markdown",
   "metadata": {},
   "source": [
    "### SVM\n",
    "Here I am just using grid search to find the best parameter sets of SVM."
   ]
  },
  {
   "cell_type": "code",
   "execution_count": 127,
   "metadata": {
    "collapsed": false
   },
   "outputs": [
    {
     "data": {
      "text/plain": [
       "GridSearchCV(cv=None, error_score='raise',\n",
       "       estimator=SVC(C=1.0, cache_size=200, class_weight=None, coef0=0.0,\n",
       "  decision_function_shape=None, degree=3, gamma='auto', kernel='rbf',\n",
       "  max_iter=-1, probability=False, random_state=None, shrinking=True,\n",
       "  tol=0.001, verbose=False),\n",
       "       fit_params={}, iid=True, n_jobs=1,\n",
       "       param_grid={'gamma': [0.001, 0.01, 0.1, 1, 10, 100], 'C': [0.001, 0.01, 0.1, 1, 10, 100]},\n",
       "       pre_dispatch='2*n_jobs', refit=True, scoring=None, verbose=0)"
      ]
     },
     "execution_count": 127,
     "metadata": {},
     "output_type": "execute_result"
    }
   ],
   "source": [
    "X_train, X_test, y_train, y_test = train_test_split(features, y, random_state=42)\n",
    "\n",
    "param_grid = {'C': [0.001, 0.01, 0.1, 1, 10, 100], 'gamma': [0.001, 0.01, 0.1, 1, 10, 100]}\n",
    "clf = GridSearchCV(svm.SVC(), param_grid=param_grid)\n",
    "clf.fit(X_train, y_train)"
   ]
  },
  {
   "cell_type": "markdown",
   "metadata": {},
   "source": [
    "### Pipeline & Gridsearch\n",
    "Doing feature selection, (feature scaling), estimator together in a pipeline is the correct way to train a ML model.   \n",
    "Here, I am using Pipeline to construct a process to extract the feature and SVM together.     \n",
    "The performance is quite impressive considering the number of samples that we have."
   ]
  },
  {
   "cell_type": "code",
   "execution_count": 130,
   "metadata": {
    "collapsed": false
   },
   "outputs": [
    {
     "name": "stdout",
     "output_type": "stream",
     "text": [
      "The final score of the grid object is 0.85\n"
     ]
    }
   ],
   "source": [
    "feature = SelectKBest(score_func=f_classif)\n",
    "clf = svm.SVC()\n",
    "pipeline = make_pipeline(\n",
    "                         feature,\n",
    "                         clf)\n",
    "\n",
    "params_grid = {'selectkbest__k': [10, 20, 30, 40, 50, 100, 150],\n",
    "               'svc__C': [0.001, 0.01, 0.1, 1, 10, 100],\n",
    "               'svc__gamma': [0.001, 0.01, 0.1, 1, 10, 100]    \n",
    "             }\n",
    "\n",
    "grid = GridSearchCV(pipeline,\n",
    "                    param_grid = params_grid,\n",
    "                    cv = 3)\n",
    "\n",
    "grid.fit(X_train, y_train)\n",
    "print('The final score of the grid object is', grid.score(X_test, y_test))"
   ]
  },
  {
   "cell_type": "code",
   "execution_count": 131,
   "metadata": {
    "collapsed": false
   },
   "outputs": [
    {
     "data": {
      "text/plain": [
       "Pipeline(steps=[('selectkbest', SelectKBest(k=10, score_func=<function f_classif at 0x1146a6268>)), ('svc', SVC(C=1.0, cache_size=200, class_weight=None, coef0=0.0,\n",
       "  decision_function_shape=None, degree=3, gamma='auto', kernel='rbf',\n",
       "  max_iter=-1, probability=False, random_state=None, shrinking=True,\n",
       "  tol=0.001, verbose=False))])"
      ]
     },
     "execution_count": 131,
     "metadata": {},
     "output_type": "execute_result"
    }
   ],
   "source": [
    "# print out the model at the end\n",
    "grid.estimator"
   ]
  },
  {
   "cell_type": "markdown",
   "metadata": {},
   "source": [
    "Notice in the previous studies, they conclude that PAM50 proteome data can only tell apart 'Basal-like', 'HER2' and 'LumA/B' apart. However, here, with only **10 key features**, I am able to differentiate 4 types much better than prevous research."
   ]
  },
  {
   "cell_type": "code",
   "execution_count": 141,
   "metadata": {
    "collapsed": false
   },
   "outputs": [
    {
     "name": "stdout",
     "output_type": "stream",
     "text": [
      "Confusion matrix, without normalization\n",
      "[[5 0 0 0]\n",
      " [0 3 0 0]\n",
      " [1 0 4 0]\n",
      " [0 0 2 5]]\n"
     ]
    },
    {
     "data": {
      "image/png": "[encoded data removed]",
      "text/plain": [
       "<matplotlib.figure.Figure at 0x10f9cb7b8>"
      ]
     },
     "metadata": {},
     "output_type": "display_data"
    }
   ],
   "source": [
    "import sklearn.metrics\n",
    "from sklearn.metrics import confusion_matrix\n",
    "cnf_matrix = confusion_matrix(grid.predict(X_test), y_test)\n",
    "def plot_confusion_matrix(cm, classes,\n",
    "                          normalize=False,\n",
    "                          title='Confusion matrix',\n",
    "                          cmap=plt.cm.Blues):\n",
    "    \"\"\"\n",
    "    This function prints and plots the confusion matrix.\n",
    "    Normalization can be applied by setting `normalize=True`.\n",
    "    \"\"\"\n",
    "    plt.imshow(cm, interpolation='nearest', cmap=cmap)\n",
    "    plt.title(title)\n",
    "    plt.colorbar()\n",
    "    tick_marks = np.arange(len(classes))\n",
    "    plt.xticks(tick_marks, classes, rotation=45)\n",
    "    plt.yticks(tick_marks, classes)\n",
    "\n",
    "    if normalize:\n",
    "        cm = cm.astype('float') / cm.sum(axis=1)[:, np.newaxis]\n",
    "        print(\"Normalized confusion matrix\")\n",
    "    else:\n",
    "        print('Confusion matrix, without normalization')\n",
    "\n",
    "    print(cm)\n",
    "\n",
    "    thresh = cm.max() / 2.\n",
    "    for i, j in itertools.product(range(cm.shape[0]), range(cm.shape[1])):\n",
    "        plt.text(j, i, cm[i, j],\n",
    "                 horizontalalignment=\"center\",\n",
    "                 color=\"white\" if cm[i, j] > thresh else \"black\")\n",
    "\n",
    "    plt.tight_layout()\n",
    "    plt.ylabel('True label')\n",
    "    plt.xlabel('Predicted label')\n",
    "    \n",
    "np.set_printoptions(precision=2)\n",
    "\n",
    "fig = plt.figure(figsize=(5,5))   \n",
    "plot_confusion_matrix(cnf_matrix, classes=['Basal-like', 'HER2', 'LumA', 'LumB'])\n",
    "plt.xlabel(\"Predicted label\")\n",
    "plt.ylabel(\"True label\")\n",
    "plt.show()"
   ]
  },
  {
   "cell_type": "code",
   "execution_count": 157,
   "metadata": {
    "collapsed": false
   },
   "outputs": [
    {
     "name": "stdout",
     "output_type": "stream",
     "text": [
      "F1 score summary {'LumB': 0.83333333333333326, 'HER2': 1.0, 'LumA': 0.72727272727272718, 'Basal-like': 0.90909090909090906}\n"
     ]
    }
   ],
   "source": [
    "from sklearn.metrics import f1_score\n",
    "f1 = f1_score(y_test, grid.predict(X_test), average=None)\n",
    "classes=['Basal-like', 'HER2', 'LumA', 'LumB']\n",
    "f1_result = dict(zip(classes, f1))\n",
    "print('F1 score summary', f1_result)"
   ]
  }
 ],
 "metadata": {
  "anaconda-cloud": {},
  "kernelspec": {
   "display_name": "Python [conda root]",
   "language": "python",
   "name": "conda-root-py"
  },
  "language_info": {
   "codemirror_mode": {
    "name": "ipython",
    "version": 3
   },
   "file_extension": ".py",
   "mimetype": "text/x-python",
   "name": "python",
   "nbconvert_exporter": "python",
   "pygments_lexer": "ipython3",
   "version": "3.5.2"
  }
 },
 "nbformat": 4,
 "nbformat_minor": 1
}
