{
 "cells": [
  {
   "cell_type": "markdown",
   "metadata": {},
   "source": [
    "## Overview\n",
    "\n",
    "### Rationale\n",
    "I was quite unhappy with the machine learning part of breast_cancer_proteosome_analysis. Especially considering 'basal-lie', 'HER2', 'LumA', 'LumB' are quite different, I should be able to seperate these four cancer types apart.\n",
    "In the previous notebook, I only used 2 models: K-neighbors and svm.SVC. However, I didn't explore all the way to finetune the models to get better performance.\n",
    "\n",
    "One key step in real-world machine learning is about **extracting the correct feature sets**. It is a combination of application of domain knowledge and statistical analysis. In the breast_cancer_proteosome_analysis, I directly chose the PAM50 genes as the feature sets. Here, I will explore the 'statistical way' to extract features using scikit learn\n",
    "**sklearn.feature_selection**. Notice here I didn't try feature union here, which is pretty handy most of the time. (I tried, the performance is not getting better.)\n",
    "\n",
    "Another key point is utilizing **pipeline**. Pipelines work by allowing for a linear sequence of data transforms to be chained together culminating in a modeling process that can be evaluated. The goal is to ensure that all of the steps in the pipeline are constrained to the data available for the evaluation. This is actually pretty important\n",
    "\n",
    "### Outline\n",
    "1. Prep data\n",
    "2. Feature Extraction\n",
    "3. Pipeline & Gridsearch\n",
    "\n",
    "### Result\n",
    "The performance that we get is much better than the previous model."
   ]
  },
  {
   "cell_type": "code",
   "execution_count": 1,
   "metadata": {
    "collapsed": true
   },
   "outputs": [],
   "source": [
    "# import the modules that are needed.\n",
    "% matplotlib inline\n",
    "import numpy as np\n",
    "import pandas as pd\n",
    "import matplotlib.pyplot as plt\n",
    "\n",
    "import itertools\n",
    "\n",
    "from sklearn.grid_search import GridSearchCV\n",
    "from sklearn import svm\n",
    "from sklearn.svm import SVC\n",
    "from sklearn.preprocessing import Imputer\n",
    "from sklearn.cross_validation import train_test_split\n",
    "from sklearn.cross_validation import KFold\n",
    "from sklearn.pipeline import Pipeline\n",
    "from sklearn.pipeline import make_pipeline"
   ]
  },
  {
   "cell_type": "markdown",
   "metadata": {},
   "source": [
    "### Prepare the data\n",
    "Most of the data prep part was done in 'breast_cancer_proteosome_analysis'."
   ]
  },
  {
   "cell_type": "code",
   "execution_count": 2,
   "metadata": {
    "collapsed": true
   },
   "outputs": [],
   "source": [
    "merge = pd.read_csv('merge_proteome_clinic.csv', index_col=0)"
   ]
  },
  {
   "cell_type": "code",
   "execution_count": 3,
   "metadata": {
    "collapsed": true
   },
   "outputs": [],
   "source": [
    "proteome = merge.ix[:, :12553]"
   ]
  },
  {
   "cell_type": "code",
   "execution_count": 4,
   "metadata": {
    "collapsed": true
   },
   "outputs": [],
   "source": [
    "imputer = Imputer(missing_values='NaN', strategy='median', axis=1)\n",
    "imputer = imputer.fit(proteome)\n",
    "processed_proteome = imputer.transform(proteome)"
   ]
  },
  {
   "cell_type": "code",
   "execution_count": 5,
   "metadata": {
    "collapsed": true
   },
   "outputs": [],
   "source": [
    "X = processed_proteome"
   ]
  },
  {
   "cell_type": "code",
   "execution_count": 6,
   "metadata": {
    "collapsed": true
   },
   "outputs": [],
   "source": [
    "merge['PAM50 mRNA'] = merge['PAM50 mRNA'].astype('category')\n",
    "merge['PAM50_mRNA_label'] = merge['PAM50 mRNA'].cat.codes"
   ]
  },
  {
   "cell_type": "code",
   "execution_count": 7,
   "metadata": {
    "collapsed": true
   },
   "outputs": [],
   "source": [
    "y = merge['PAM50_mRNA_label'].values"
   ]
  },
  {
   "cell_type": "markdown",
   "metadata": {},
   "source": [
    "### Feature Extraction\n",
    "Scikit learn provides a pretty nice module called feature_selection to do this statistically.    \n",
    "Personally, I don't really understand the details of the mechanism of different score_func.    \n",
    "Here is a link of a blog by Jason Brownlee which talks about the feature selection for ML in python:    \n",
    "http://machinelearningmastery.com/feature-selection-machine-learning-python/"
   ]
  },
  {
   "cell_type": "code",
   "execution_count": 8,
   "metadata": {
    "collapsed": false
   },
   "outputs": [],
   "source": [
    "from sklearn.feature_selection import SelectKBest\n",
    "from sklearn.feature_selection import chi2, f_classif, f_regression\n",
    "# feature extraction\n",
    "test = SelectKBest(score_func=f_classif, k=185)\n",
    "fit = test.fit(X, y)\n",
    "# summarize scores\n",
    "np.set_printoptions(precision=3)\n",
    "features = fit.transform(X)"
   ]
  },
  {
   "cell_type": "markdown",
   "metadata": {},
   "source": [
    "### SVM\n",
    "Here I am just using grid search to find the best parameter sets of SVM."
   ]
  },
  {
   "cell_type": "code",
   "execution_count": 9,
   "metadata": {
    "collapsed": false
   },
   "outputs": [
    {
     "data": {
      "text/plain": [
       "GridSearchCV(cv=None, error_score='raise',\n",
       "       estimator=SVC(C=1.0, cache_size=200, class_weight=None, coef0=0.0,\n",
       "  decision_function_shape=None, degree=3, gamma='auto', kernel='rbf',\n",
       "  max_iter=-1, probability=False, random_state=None, shrinking=True,\n",
       "  tol=0.001, verbose=False),\n",
       "       fit_params={}, iid=True, n_jobs=1,\n",
       "       param_grid={'gamma': [0.001, 0.01, 0.1, 1, 10, 100], 'C': [0.001, 0.01, 0.1, 1, 10, 100]},\n",
       "       pre_dispatch='2*n_jobs', refit=True, scoring=None, verbose=0)"
      ]
     },
     "execution_count": 9,
     "metadata": {},
     "output_type": "execute_result"
    }
   ],
   "source": [
    "X_train, X_test, y_train, y_test = train_test_split(features, y, random_state=42)\n",
    "\n",
    "param_grid = {'C': [0.001, 0.01, 0.1, 1, 10, 100], 'gamma': [0.001, 0.01, 0.1, 1, 10, 100]}\n",
    "clf = GridSearchCV(svm.SVC(), param_grid=param_grid)\n",
    "clf.fit(X_train, y_train)"
   ]
  },
  {
   "cell_type": "markdown",
   "metadata": {},
   "source": [
    "### Pipeline & Gridsearch\n",
    "Doing feature selection, (feature scaling), estimator together in a pipeline is the correct way to train a ML model.   \n",
    "Here, I am using Pipeline to construct a process to extract the feature and SVM together.     \n",
    "The performance is quite impressive considering the number of samples that we have."
   ]
  },
  {
   "cell_type": "code",
   "execution_count": 10,
   "metadata": {
    "collapsed": false
   },
   "outputs": [
    {
     "name": "stdout",
     "output_type": "stream",
     "text": [
      "The final score of the grid object is 0.85\n"
     ]
    }
   ],
   "source": [
    "feature = SelectKBest(score_func=f_classif)\n",
    "clf = svm.SVC()\n",
    "pipeline = make_pipeline(\n",
    "                         feature,\n",
    "                         clf)\n",
    "\n",
    "params_grid = {'selectkbest__k': [10, 20, 30, 40, 50, 100, 150],\n",
    "               'svc__C': [0.001, 0.01, 0.1, 1, 10, 100],\n",
    "               'svc__gamma': [0.001, 0.01, 0.1, 1, 10, 100]    \n",
    "             }\n",
    "\n",
    "grid = GridSearchCV(pipeline,\n",
    "                    param_grid = params_grid,\n",
    "                    cv = 3)\n",
    "\n",
    "grid.fit(X_train, y_train)\n",
    "print('The final score of the grid object is', grid.score(X_test, y_test))"
   ]
  },
  {
   "cell_type": "code",
   "execution_count": 11,
   "metadata": {
    "collapsed": false
   },
   "outputs": [
    {
     "data": {
      "text/plain": [
       "Pipeline(steps=[('selectkbest', SelectKBest(k=10, score_func=<function f_classif at 0x11042cc80>)), ('svc', SVC(C=1.0, cache_size=200, class_weight=None, coef0=0.0,\n",
       "  decision_function_shape=None, degree=3, gamma='auto', kernel='rbf',\n",
       "  max_iter=-1, probability=False, random_state=None, shrinking=True,\n",
       "  tol=0.001, verbose=False))])"
      ]
     },
     "execution_count": 11,
     "metadata": {},
     "output_type": "execute_result"
    }
   ],
   "source": [
    "# print out the model at the end\n",
    "grid.estimator"
   ]
  },
  {
   "cell_type": "markdown",
   "metadata": {},
   "source": [
    "Notice in the previous studies, they conclude that PAM50 proteome data can only tell apart 'Basal-like', 'HER2' and 'LumA/B' apart. However, here, with only **10 key features**, I am able to differentiate 4 types much better than prevous research."
   ]
  },
  {
   "cell_type": "code",
   "execution_count": 12,
   "metadata": {
    "collapsed": false
   },
   "outputs": [
    {
     "name": "stdout",
     "output_type": "stream",
     "text": [
      "Confusion matrix, without normalization\n",
      "[[5 0 0 0]\n",
      " [0 3 0 0]\n",
      " [1 0 4 0]\n",
      " [0 0 2 5]]\n"
     ]
    },
    {
     "data": {
      "image/png": "[encoded data removed]",
      "text/plain": [
       "<matplotlib.figure.Figure at 0x111c73d68>"
      ]
     },
     "metadata": {},
     "output_type": "display_data"
    }
   ],
   "source": [
    "import sklearn.metrics\n",
    "from sklearn.metrics import confusion_matrix\n",
    "cnf_matrix = confusion_matrix(grid.predict(X_test), y_test)\n",
    "def plot_confusion_matrix(cm, classes,\n",
    "                          normalize=False,\n",
    "                          title='Confusion matrix',\n",
    "                          cmap=plt.cm.Blues):\n",
    "    \"\"\"\n",
    "    This function prints and plots the confusion matrix.\n",
    "    Normalization can be applied by setting `normalize=True`.\n",
    "    \"\"\"\n",
    "    plt.imshow(cm, interpolation='nearest', cmap=cmap)\n",
    "    plt.title(title)\n",
    "    plt.colorbar()\n",
    "    tick_marks = np.arange(len(classes))\n",
    "    plt.xticks(tick_marks, classes, rotation=45)\n",
    "    plt.yticks(tick_marks, classes)\n",
    "\n",
    "    if normalize:\n",
    "        cm = cm.astype('float') / cm.sum(axis=1)[:, np.newaxis]\n",
    "        print(\"Normalized confusion matrix\")\n",
    "    else:\n",
    "        print('Confusion matrix, without normalization')\n",
    "\n",
    "    print(cm)\n",
    "\n",
    "    thresh = cm.max() / 2.\n",
    "    for i, j in itertools.product(range(cm.shape[0]), range(cm.shape[1])):\n",
    "        plt.text(j, i, cm[i, j],\n",
    "                 horizontalalignment=\"center\",\n",
    "                 color=\"white\" if cm[i, j] > thresh else \"black\")\n",
    "\n",
    "    plt.tight_layout()\n",
    "    plt.ylabel('True label')\n",
    "    plt.xlabel('Predicted label')\n",
    "    \n",
    "np.set_printoptions(precision=2)\n",
    "\n",
    "fig = plt.figure(figsize=(5,5))   \n",
    "plot_confusion_matrix(cnf_matrix, classes=['Basal-like', 'HER2', 'LumA', 'LumB'])\n",
    "plt.xlabel(\"Predicted label\")\n",
    "plt.ylabel(\"True label\")\n",
    "plt.show()"
   ]
  },
  {
   "cell_type": "code",
   "execution_count": 14,
   "metadata": {
    "collapsed": false
   },
   "outputs": [
    {
     "name": "stdout",
     "output_type": "stream",
     "text": [
      "F1 score summary {'Basal-like': 0.90909090909090906, 'HER2': 1.0, 'LumB': 0.83333333333333326, 'LumA': 0.72727272727272718}\n"
     ]
    }
   ],
   "source": [
    "from sklearn.metrics import f1_score\n",
    "f1 = f1_score(y_test, grid.predict(X_test), average=None)\n",
    "classes=['Basal-like', 'HER2', 'LumA', 'LumB']\n",
    "f1_result = dict(zip(classes, f1))\n",
    "print('F1 score summary', f1_result)"
   ]
  },
  {
   "cell_type": "markdown",
   "metadata": {
    "collapsed": true
   },
   "source": [
    "### t-sne transformation"
   ]
  },
  {
   "cell_type": "code",
   "execution_count": 27,
   "metadata": {
    "collapsed": true
   },
   "outputs": [],
   "source": [
    "def temp_scatter(x, colors):\n",
    "    \n",
    "    import seaborn as sns\n",
    "    import matplotlib.patheffects as PathEffects\n",
    "    # We choose a color palette with seaborn.\n",
    "    palette = np.array(sns.color_palette(\"hls\", 4))\n",
    "\n",
    "    # We create a scatter plot.\n",
    "    f = plt.figure(figsize=(6, 6))\n",
    "    ax = plt.subplot(aspect='equal')\n",
    "    sc = ax.scatter(x[:,0], x[:,1], lw=0, s=40,\n",
    "                    c=palette[colors.astype(np.int)])\n",
    "    plt.xlim(-25, 25)\n",
    "    plt.ylim(-25, 25)\n",
    "    ax.axis('off')\n",
    "    ax.axis('tight')\n",
    "\n",
    "    # We add the labels for each digit.\n",
    "    labels = ['Basal-like', 'HER2', 'LumA', 'LumB']\n",
    "    txts = []\n",
    "    for i in range(4):\n",
    "        # Position of each label.\n",
    "        xtext, ytext = np.median(x[colors == i, :], axis=0)\n",
    "        txt = ax.text(xtext, ytext, labels[i], fontsize=24)\n",
    "        txt.set_path_effects([\n",
    "            PathEffects.Stroke(linewidth=5, foreground=\"w\"),\n",
    "            PathEffects.Normal()])\n",
    "        txts.append(txt)\n",
    "\n",
    "    return f, ax, sc, txts"
   ]
  },
  {
   "cell_type": "code",
   "execution_count": 28,
   "metadata": {
    "collapsed": false
   },
   "outputs": [],
   "source": [
    "from sklearn.manifold import TSNE\n",
    "import sklearn.manifold\n",
    "import sklearn\n",
    "from numpy import linalg\n",
    "from numpy.linalg import norm\n",
    "from scipy.spatial.distance import squareform, pdist\n",
    "# monkey patch the _gradient_descent() and save the intermediate steps into a list called positions\n",
    "positions = []\n",
    "# the original code for _gradient_descent is \n",
    "# from https://github.com/scikit-learn/scikit-learn/blob/14031f6/sklearn/manifold/t_sne.py#L497\n",
    "# version on Dec 25 2017 \n",
    "def _gradient_descent(objective, p0, it, n_iter, objective_error=None,\n",
    "                      n_iter_check=1, n_iter_without_progress=50,\n",
    "                      momentum=0.5, learning_rate=1000.0, min_gain=0.01,\n",
    "                      min_grad_norm=1e-7, min_error_diff=1e-7, verbose=0,\n",
    "                      args=None, kwargs=None):\n",
    "    if args is None:\n",
    "        args = []\n",
    "    if kwargs is None:\n",
    "        kwargs = {}\n",
    "\n",
    "    p = p0.copy().ravel()\n",
    "    update = np.zeros_like(p)\n",
    "    gains = np.ones_like(p)\n",
    "    error = np.finfo(np.float).max\n",
    "    best_error = np.finfo(np.float).max\n",
    "    best_iter = 0\n",
    "\n",
    "    for i in range(it, n_iter):\n",
    "        # save the current position\n",
    "        positions.append(p.copy())\n",
    "        # after working on backprop in CNN, this is pretty easy\n",
    "        new_error, grad = objective(p, *args, **kwargs)\n",
    "        grad_norm = linalg.norm(grad)\n",
    "        \n",
    "        inc = update * grad >= 0.0\n",
    "        dec = np.invert(inc)\n",
    "        gains[inc] += 0.05\n",
    "        gains[dec] *= 0.95\n",
    "        np.clip(gains, min_gain, np.inf)\n",
    "        grad *= gains\n",
    "        update = momentum * update - learning_rate * grad\n",
    "        p += update\n",
    "\n",
    "        if (i + 1) % n_iter_check == 0:\n",
    "            if new_error is None:\n",
    "                new_error = objective_error(p, *args)\n",
    "            error_diff = np.abs(new_error - error)\n",
    "            error = new_error\n",
    "\n",
    "            if verbose >= 2:\n",
    "                m = \"[t-SNE] Iteration %d: error = %.7f, gradient norm = %.7f\"\n",
    "                print(m % (i + 1, error, grad_norm))\n",
    "\n",
    "            if error < best_error:\n",
    "                best_error = error\n",
    "                best_iter = i\n",
    "            elif i - best_iter > n_iter_without_progress:\n",
    "                if verbose >= 2:\n",
    "                    print(\"[t-SNE] Iteration %d: did not make any progress \"\n",
    "                          \"during the last %d episodes. Finished.\"\n",
    "                          % (i + 1, n_iter_without_progress))\n",
    "                break\n",
    "            if grad_norm <= min_grad_norm:\n",
    "                if verbose >= 2:\n",
    "                    print(\"[t-SNE] Iteration %d: gradient norm %f. Finished.\"\n",
    "                          % (i + 1, grad_norm))\n",
    "                break\n",
    "            if error_diff <= min_error_diff:\n",
    "                if verbose >= 2:\n",
    "                    m = \"[t-SNE] Iteration %d: error difference %f. Finished.\"\n",
    "                    print(m % (i + 1, error_diff))\n",
    "                break\n",
    "\n",
    "        if new_error is not None:\n",
    "            error = new_error\n",
    "\n",
    "    return p, error, i\n",
    "# replace the original _gradient_descent with this\n",
    "# this is little hacky, as soon as this function got updated, this will be broken\n",
    "# currently, I cannot find a module to do it\n",
    "# add a suggestion to the sckit learn \n",
    "sklearn.manifold.t_sne._gradient_descent = _gradient_descent"
   ]
  },
  {
   "cell_type": "code",
   "execution_count": 90,
   "metadata": {
    "collapsed": false
   },
   "outputs": [],
   "source": [
    "X_proj = TSNE(random_state=42,learning_rate=45, perplexity=20, early_exaggeration=2.0).fit_transform(features)"
   ]
  },
  {
   "cell_type": "code",
   "execution_count": 92,
   "metadata": {
    "collapsed": true
   },
   "outputs": [],
   "source": [
    "X_iter = np.dstack(position.reshape(-1, 2) for position in positions)"
   ]
  },
  {
   "cell_type": "markdown",
   "metadata": {
    "collapsed": false
   },
   "source": [
    "~~~\n",
    "for i in range(125):\n",
    "    f, ax, sc, txts = temp_scatter(X_iter[..., i], y)\n",
    "    f.savefig(str(i))\n",
    "\n",
    "import os\n",
    "png_list = [_ for _ in os.listdir() if _[-3:] == 'png']\n",
    "\n",
    "def getint(name):\n",
    "    basename = name.split('.')[0]\n",
    "    num = basename\n",
    "    return int(num)\n",
    "png_list.sort(key=getint)\n",
    "\n",
    "import imageio\n",
    "images = []\n",
    "for filename in png_list:\n",
    "    images.append(imageio.imread(filename))\n",
    "imageio.mimsave('movie3.gif', images)\n",
    "~~~"
   ]
  },
  {
   "cell_type": "code",
   "execution_count": 24,
   "metadata": {
    "collapsed": false
   },
   "outputs": [
    {
     "data": {
      "text/plain": [
       "(77, 2, 225)"
      ]
     },
     "execution_count": 24,
     "metadata": {},
     "output_type": "execute_result"
    }
   ],
   "source": [
    "X_iter.shape"
   ]
  },
  {
   "cell_type": "code",
   "execution_count": 91,
   "metadata": {
    "collapsed": false
   },
   "outputs": [
    {
     "data": {
      "image/png": "[encoded data removed]",
      "text/plain": [
       "<matplotlib.figure.Figure at 0x11daaf780>"
      ]
     },
     "metadata": {},
     "output_type": "display_data"
    }
   ],
   "source": [
    "temp_scatter(X_proj, y)\n",
    "plt.show()"
   ]
  },
  {
   "cell_type": "code",
   "execution_count": null,
   "metadata": {
    "collapsed": true
   },
   "outputs": [],
   "source": []
  }
 ],
 "metadata": {
  "anaconda-cloud": {},
  "kernelspec": {
   "display_name": "Python [conda root]",
   "language": "python",
   "name": "conda-root-py"
  },
  "language_info": {
   "codemirror_mode": {
    "name": "ipython",
    "version": 3
   },
   "file_extension": ".py",
   "mimetype": "text/x-python",
   "name": "python",
   "nbconvert_exporter": "python",
   "pygments_lexer": "ipython3",
   "version": "3.5.2"
  }
 },
 "nbformat": 4,
 "nbformat_minor": 1
}
