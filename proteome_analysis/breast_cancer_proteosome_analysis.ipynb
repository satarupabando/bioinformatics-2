{
 "cells": [
  {
   "cell_type": "code",
   "execution_count": 23,
   "metadata": {
    "collapsed": true
   },
   "outputs": [],
   "source": [
    "% matplotlib inline\n",
    "import numpy as np\n",
    "import pandas as pd\n",
    "import matplotlib.pyplot as plt\n",
    "import matplotlib.patheffects as PathEffects\n",
    "import seaborn as sns"
   ]
  },
  {
   "cell_type": "markdown",
   "metadata": {},
   "source": [
    "## Import data base and clean up"
   ]
  },
  {
   "cell_type": "code",
   "execution_count": 24,
   "metadata": {
    "collapsed": true
   },
   "outputs": [],
   "source": [
    "prot_file = 'breastcancerproteomes/77_cancer_proteomes_CPTAC_itraq.csv'"
   ]
  },
  {
   "cell_type": "markdown",
   "metadata": {},
   "source": [
    "**File: 77_cancer_proteomes_CPTAC_itraq.csv**\n",
    "\n",
    "1. RefSeq_accession_number: RefSeq protein ID (each protein has a unique ID in a RefSeq database)\n",
    "2. gene_symbol: a symbol unique to each gene (every protein is encoded by some gene)\n",
    "3. gene_name: a full name of that gene Remaining columns: log2 iTRAQ ratios for each sample (protein expression data, most important)\n",
    "4. **three last columns are from healthy individuals**"
   ]
  },
  {
   "cell_type": "code",
   "execution_count": 81,
   "metadata": {
    "collapsed": false
   },
   "outputs": [
    {
     "name": "stdout",
     "output_type": "stream",
     "text": [
      "the dimension of this dataset is  (12553, 85)\n"
     ]
    },
    {
     "data": {
      "text/html": [
       "<div>\n",
       "<table border=\"1\" class=\"dataframe\">\n",
       "  <thead>\n",
       "    <tr style=\"text-align: right;\">\n",
       "      <th></th>\n",
       "      <th>Unnamed: 0</th>\n",
       "      <th>RefSeq_accession_number</th>\n",
       "      <th>TCGA-AO-A12D</th>\n",
       "      <th>TCGA-C8-A131</th>\n",
       "      <th>TCGA-AO-A12B</th>\n",
       "      <th>TCGA-BH-A18Q</th>\n",
       "      <th>TCGA-C8-A130</th>\n",
       "      <th>TCGA-C8-A138</th>\n",
       "      <th>TCGA-E2-A154</th>\n",
       "      <th>TCGA-C8-A12L</th>\n",
       "      <th>...</th>\n",
       "      <th>TCGA-AO-A12B.1</th>\n",
       "      <th>TCGA-A2-A0SW</th>\n",
       "      <th>TCGA-AO-A0JL</th>\n",
       "      <th>TCGA-BH-A0BV</th>\n",
       "      <th>TCGA-A2-A0YM</th>\n",
       "      <th>TCGA-BH-A0C7</th>\n",
       "      <th>TCGA-A2-A0SX</th>\n",
       "      <th>263d3f-I.CPTAC</th>\n",
       "      <th>blcdb9-I.CPTAC</th>\n",
       "      <th>c4155b-C.CPTAC</th>\n",
       "    </tr>\n",
       "  </thead>\n",
       "  <tbody>\n",
       "    <tr>\n",
       "      <th>0</th>\n",
       "      <td>0</td>\n",
       "      <td>NP_958782</td>\n",
       "      <td>1.096131</td>\n",
       "      <td>2.609943</td>\n",
       "      <td>-0.659828</td>\n",
       "      <td>0.195341</td>\n",
       "      <td>-0.494060</td>\n",
       "      <td>2.765081</td>\n",
       "      <td>0.862659</td>\n",
       "      <td>1.407570</td>\n",
       "      <td>...</td>\n",
       "      <td>-0.963904</td>\n",
       "      <td>-0.487772</td>\n",
       "      <td>-0.10668</td>\n",
       "      <td>-0.065838</td>\n",
       "      <td>0.655850</td>\n",
       "      <td>-0.552212</td>\n",
       "      <td>-0.398560</td>\n",
       "      <td>0.598585</td>\n",
       "      <td>-0.191285</td>\n",
       "      <td>0.566975</td>\n",
       "    </tr>\n",
       "    <tr>\n",
       "      <th>1</th>\n",
       "      <td>1</td>\n",
       "      <td>NP_958785</td>\n",
       "      <td>1.111370</td>\n",
       "      <td>2.650422</td>\n",
       "      <td>-0.648742</td>\n",
       "      <td>0.215413</td>\n",
       "      <td>-0.503899</td>\n",
       "      <td>2.779709</td>\n",
       "      <td>0.870186</td>\n",
       "      <td>1.407570</td>\n",
       "      <td>...</td>\n",
       "      <td>-0.938210</td>\n",
       "      <td>-0.487772</td>\n",
       "      <td>-0.10668</td>\n",
       "      <td>-0.055893</td>\n",
       "      <td>0.658143</td>\n",
       "      <td>-0.547749</td>\n",
       "      <td>-0.392601</td>\n",
       "      <td>0.606697</td>\n",
       "      <td>-0.183918</td>\n",
       "      <td>0.578702</td>\n",
       "    </tr>\n",
       "    <tr>\n",
       "      <th>2</th>\n",
       "      <td>2</td>\n",
       "      <td>NP_958786</td>\n",
       "      <td>1.111370</td>\n",
       "      <td>2.650422</td>\n",
       "      <td>-0.654285</td>\n",
       "      <td>0.215413</td>\n",
       "      <td>-0.500619</td>\n",
       "      <td>2.779709</td>\n",
       "      <td>0.870186</td>\n",
       "      <td>1.410312</td>\n",
       "      <td>...</td>\n",
       "      <td>-0.943919</td>\n",
       "      <td>-0.487772</td>\n",
       "      <td>-0.10668</td>\n",
       "      <td>-0.065838</td>\n",
       "      <td>0.655850</td>\n",
       "      <td>-0.552212</td>\n",
       "      <td>-0.392601</td>\n",
       "      <td>0.603993</td>\n",
       "      <td>-0.186022</td>\n",
       "      <td>0.576747</td>\n",
       "    </tr>\n",
       "    <tr>\n",
       "      <th>3</th>\n",
       "      <td>3</td>\n",
       "      <td>NP_000436</td>\n",
       "      <td>1.107561</td>\n",
       "      <td>2.646374</td>\n",
       "      <td>-0.632113</td>\n",
       "      <td>0.205377</td>\n",
       "      <td>-0.510459</td>\n",
       "      <td>2.797995</td>\n",
       "      <td>0.866423</td>\n",
       "      <td>1.407570</td>\n",
       "      <td>...</td>\n",
       "      <td>-0.935355</td>\n",
       "      <td>-0.487772</td>\n",
       "      <td>-0.10668</td>\n",
       "      <td>-0.055893</td>\n",
       "      <td>0.655850</td>\n",
       "      <td>-0.552212</td>\n",
       "      <td>-0.392601</td>\n",
       "      <td>0.603993</td>\n",
       "      <td>-0.186022</td>\n",
       "      <td>0.576747</td>\n",
       "    </tr>\n",
       "    <tr>\n",
       "      <th>4</th>\n",
       "      <td>4</td>\n",
       "      <td>NP_958781</td>\n",
       "      <td>1.115180</td>\n",
       "      <td>2.646374</td>\n",
       "      <td>-0.640428</td>\n",
       "      <td>0.215413</td>\n",
       "      <td>-0.503899</td>\n",
       "      <td>2.787023</td>\n",
       "      <td>0.870186</td>\n",
       "      <td>1.413053</td>\n",
       "      <td>...</td>\n",
       "      <td>-0.935355</td>\n",
       "      <td>-0.503853</td>\n",
       "      <td>-0.10668</td>\n",
       "      <td>-0.062523</td>\n",
       "      <td>0.651264</td>\n",
       "      <td>-0.556675</td>\n",
       "      <td>-0.395581</td>\n",
       "      <td>0.603993</td>\n",
       "      <td>-0.167079</td>\n",
       "      <td>0.576747</td>\n",
       "    </tr>\n",
       "  </tbody>\n",
       "</table>\n",
       "<p>5 rows × 85 columns</p>\n",
       "</div>"
      ],
      "text/plain": [
       "   Unnamed: 0 RefSeq_accession_number  TCGA-AO-A12D  TCGA-C8-A131  \\\n",
       "0           0               NP_958782      1.096131      2.609943   \n",
       "1           1               NP_958785      1.111370      2.650422   \n",
       "2           2               NP_958786      1.111370      2.650422   \n",
       "3           3               NP_000436      1.107561      2.646374   \n",
       "4           4               NP_958781      1.115180      2.646374   \n",
       "\n",
       "   TCGA-AO-A12B  TCGA-BH-A18Q  TCGA-C8-A130  TCGA-C8-A138  TCGA-E2-A154  \\\n",
       "0     -0.659828      0.195341     -0.494060      2.765081      0.862659   \n",
       "1     -0.648742      0.215413     -0.503899      2.779709      0.870186   \n",
       "2     -0.654285      0.215413     -0.500619      2.779709      0.870186   \n",
       "3     -0.632113      0.205377     -0.510459      2.797995      0.866423   \n",
       "4     -0.640428      0.215413     -0.503899      2.787023      0.870186   \n",
       "\n",
       "   TCGA-C8-A12L       ...        TCGA-AO-A12B.1  TCGA-A2-A0SW  TCGA-AO-A0JL  \\\n",
       "0      1.407570       ...             -0.963904     -0.487772      -0.10668   \n",
       "1      1.407570       ...             -0.938210     -0.487772      -0.10668   \n",
       "2      1.410312       ...             -0.943919     -0.487772      -0.10668   \n",
       "3      1.407570       ...             -0.935355     -0.487772      -0.10668   \n",
       "4      1.413053       ...             -0.935355     -0.503853      -0.10668   \n",
       "\n",
       "   TCGA-BH-A0BV  TCGA-A2-A0YM  TCGA-BH-A0C7  TCGA-A2-A0SX  263d3f-I.CPTAC  \\\n",
       "0     -0.065838      0.655850     -0.552212     -0.398560        0.598585   \n",
       "1     -0.055893      0.658143     -0.547749     -0.392601        0.606697   \n",
       "2     -0.065838      0.655850     -0.552212     -0.392601        0.603993   \n",
       "3     -0.055893      0.655850     -0.552212     -0.392601        0.603993   \n",
       "4     -0.062523      0.651264     -0.556675     -0.395581        0.603993   \n",
       "\n",
       "   blcdb9-I.CPTAC  c4155b-C.CPTAC  \n",
       "0       -0.191285        0.566975  \n",
       "1       -0.183918        0.578702  \n",
       "2       -0.186022        0.576747  \n",
       "3       -0.186022        0.576747  \n",
       "4       -0.167079        0.576747  \n",
       "\n",
       "[5 rows x 85 columns]"
      ]
     },
     "execution_count": 81,
     "metadata": {},
     "output_type": "execute_result"
    }
   ],
   "source": [
    "proteome = pd.read_csv(prot_file)\n",
    "print('the dimension of this dataset is ', proteome.shape)\n",
    "proteome.head()\n",
    "# first three columns are protein/gene infromation"
   ]
  },
  {
   "cell_type": "code",
   "execution_count": 26,
   "metadata": {
    "collapsed": true
   },
   "outputs": [],
   "source": [
    "clinic_file = 'breastcancerproteomes/clinical_data_breast_cancer.csv'"
   ]
  },
  {
   "cell_type": "markdown",
   "metadata": {},
   "source": [
    "**File: clinical_data_breast_cancer.csv**\n",
    "1. First column \"Complete TCGA ID\" is used to match the sample IDs in the main cancer proteomes file. \n",
    "2. All other columns have self-explanatory names, contain data about the cancer classification of a given sample using different methods."
   ]
  },
  {
   "cell_type": "code",
   "execution_count": 27,
   "metadata": {
    "collapsed": false
   },
   "outputs": [
    {
     "name": "stdout",
     "output_type": "stream",
     "text": [
      "the dimension of clinic file is  (105, 29)\n"
     ]
    }
   ],
   "source": [
    "clinic = pd.read_csv(clinic_file, index_col=0)\n",
    "print('the dimension of clinic file is ', clinic.shape)\n",
    "# clinic.head()"
   ]
  },
  {
   "cell_type": "markdown",
   "metadata": {},
   "source": [
    "** The TCGA_IDs don't match between two datasets, thus, change the name accordingly to fit the complete TCGA_ID format**"
   ]
  },
  {
   "cell_type": "code",
   "execution_count": 28,
   "metadata": {
    "collapsed": false
   },
   "outputs": [],
   "source": [
    "original_name = list(proteome.columns)\n",
    "def change_TCGA_ID(name):\n",
    "    return name[-4:] + '-' + name[:7]\n",
    "modified_name = original_name[:3] + [change_TCGA_ID(_) for _ in original_name[3: -3]] + original_name[-3:]"
   ]
  },
  {
   "cell_type": "code",
   "execution_count": 29,
   "metadata": {
    "collapsed": false
   },
   "outputs": [],
   "source": [
    "# change the format\n",
    "proteome.columns = modified_name"
   ]
  },
  {
   "cell_type": "code",
   "execution_count": 30,
   "metadata": {
    "collapsed": false
   },
   "outputs": [
    {
     "data": {
      "text/html": [
       "<div>\n",
       "<table border=\"1\" class=\"dataframe\">\n",
       "  <thead>\n",
       "    <tr style=\"text-align: right;\">\n",
       "      <th></th>\n",
       "      <th>RefSeq_accession_number</th>\n",
       "      <th>gene_symbol</th>\n",
       "      <th>gene_name</th>\n",
       "      <th>TCGA-AO-A12D</th>\n",
       "      <th>TCGA-C8-A131</th>\n",
       "      <th>TCGA-AO-A12B</th>\n",
       "      <th>TCGA-BH-A18Q</th>\n",
       "      <th>TCGA-C8-A130</th>\n",
       "      <th>TCGA-C8-A138</th>\n",
       "      <th>TCGA-E2-A154</th>\n",
       "      <th>...</th>\n",
       "      <th>TCGA-AO-A12B</th>\n",
       "      <th>TCGA-A2-A0SW</th>\n",
       "      <th>TCGA-AO-A0JL</th>\n",
       "      <th>TCGA-BH-A0BV</th>\n",
       "      <th>TCGA-A2-A0YM</th>\n",
       "      <th>TCGA-BH-A0C7</th>\n",
       "      <th>TCGA-A2-A0SX</th>\n",
       "      <th>263d3f-I.CPTAC</th>\n",
       "      <th>blcdb9-I.CPTAC</th>\n",
       "      <th>c4155b-C.CPTAC</th>\n",
       "    </tr>\n",
       "  </thead>\n",
       "  <tbody>\n",
       "    <tr>\n",
       "      <th>0</th>\n",
       "      <td>NP_958782</td>\n",
       "      <td>PLEC</td>\n",
       "      <td>plectin isoform 1</td>\n",
       "      <td>1.096131</td>\n",
       "      <td>2.609943</td>\n",
       "      <td>-0.659828</td>\n",
       "      <td>0.195341</td>\n",
       "      <td>-0.494060</td>\n",
       "      <td>2.765081</td>\n",
       "      <td>0.862659</td>\n",
       "      <td>...</td>\n",
       "      <td>-0.963904</td>\n",
       "      <td>-0.487772</td>\n",
       "      <td>-0.10668</td>\n",
       "      <td>-0.065838</td>\n",
       "      <td>0.655850</td>\n",
       "      <td>-0.552212</td>\n",
       "      <td>-0.398560</td>\n",
       "      <td>0.598585</td>\n",
       "      <td>-0.191285</td>\n",
       "      <td>0.566975</td>\n",
       "    </tr>\n",
       "    <tr>\n",
       "      <th>1</th>\n",
       "      <td>NP_958785</td>\n",
       "      <td>NaN</td>\n",
       "      <td>plectin isoform 1g</td>\n",
       "      <td>1.111370</td>\n",
       "      <td>2.650422</td>\n",
       "      <td>-0.648742</td>\n",
       "      <td>0.215413</td>\n",
       "      <td>-0.503899</td>\n",
       "      <td>2.779709</td>\n",
       "      <td>0.870186</td>\n",
       "      <td>...</td>\n",
       "      <td>-0.938210</td>\n",
       "      <td>-0.487772</td>\n",
       "      <td>-0.10668</td>\n",
       "      <td>-0.055893</td>\n",
       "      <td>0.658143</td>\n",
       "      <td>-0.547749</td>\n",
       "      <td>-0.392601</td>\n",
       "      <td>0.606697</td>\n",
       "      <td>-0.183918</td>\n",
       "      <td>0.578702</td>\n",
       "    </tr>\n",
       "    <tr>\n",
       "      <th>2</th>\n",
       "      <td>NP_958786</td>\n",
       "      <td>PLEC</td>\n",
       "      <td>plectin isoform 1a</td>\n",
       "      <td>1.111370</td>\n",
       "      <td>2.650422</td>\n",
       "      <td>-0.654285</td>\n",
       "      <td>0.215413</td>\n",
       "      <td>-0.500619</td>\n",
       "      <td>2.779709</td>\n",
       "      <td>0.870186</td>\n",
       "      <td>...</td>\n",
       "      <td>-0.943919</td>\n",
       "      <td>-0.487772</td>\n",
       "      <td>-0.10668</td>\n",
       "      <td>-0.065838</td>\n",
       "      <td>0.655850</td>\n",
       "      <td>-0.552212</td>\n",
       "      <td>-0.392601</td>\n",
       "      <td>0.603993</td>\n",
       "      <td>-0.186022</td>\n",
       "      <td>0.576747</td>\n",
       "    </tr>\n",
       "    <tr>\n",
       "      <th>3</th>\n",
       "      <td>NP_000436</td>\n",
       "      <td>NaN</td>\n",
       "      <td>plectin isoform 1c</td>\n",
       "      <td>1.107561</td>\n",
       "      <td>2.646374</td>\n",
       "      <td>-0.632113</td>\n",
       "      <td>0.205377</td>\n",
       "      <td>-0.510459</td>\n",
       "      <td>2.797995</td>\n",
       "      <td>0.866423</td>\n",
       "      <td>...</td>\n",
       "      <td>-0.935355</td>\n",
       "      <td>-0.487772</td>\n",
       "      <td>-0.10668</td>\n",
       "      <td>-0.055893</td>\n",
       "      <td>0.655850</td>\n",
       "      <td>-0.552212</td>\n",
       "      <td>-0.392601</td>\n",
       "      <td>0.603993</td>\n",
       "      <td>-0.186022</td>\n",
       "      <td>0.576747</td>\n",
       "    </tr>\n",
       "    <tr>\n",
       "      <th>4</th>\n",
       "      <td>NP_958781</td>\n",
       "      <td>NaN</td>\n",
       "      <td>plectin isoform 1e</td>\n",
       "      <td>1.115180</td>\n",
       "      <td>2.646374</td>\n",
       "      <td>-0.640428</td>\n",
       "      <td>0.215413</td>\n",
       "      <td>-0.503899</td>\n",
       "      <td>2.787023</td>\n",
       "      <td>0.870186</td>\n",
       "      <td>...</td>\n",
       "      <td>-0.935355</td>\n",
       "      <td>-0.503853</td>\n",
       "      <td>-0.10668</td>\n",
       "      <td>-0.062523</td>\n",
       "      <td>0.651264</td>\n",
       "      <td>-0.556675</td>\n",
       "      <td>-0.395581</td>\n",
       "      <td>0.603993</td>\n",
       "      <td>-0.167079</td>\n",
       "      <td>0.576747</td>\n",
       "    </tr>\n",
       "  </tbody>\n",
       "</table>\n",
       "<p>5 rows × 86 columns</p>\n",
       "</div>"
      ],
      "text/plain": [
       "  RefSeq_accession_number gene_symbol           gene_name  TCGA-AO-A12D  \\\n",
       "0               NP_958782        PLEC   plectin isoform 1      1.096131   \n",
       "1               NP_958785         NaN  plectin isoform 1g      1.111370   \n",
       "2               NP_958786        PLEC  plectin isoform 1a      1.111370   \n",
       "3               NP_000436         NaN  plectin isoform 1c      1.107561   \n",
       "4               NP_958781         NaN  plectin isoform 1e      1.115180   \n",
       "\n",
       "   TCGA-C8-A131  TCGA-AO-A12B  TCGA-BH-A18Q  TCGA-C8-A130  TCGA-C8-A138  \\\n",
       "0      2.609943     -0.659828      0.195341     -0.494060      2.765081   \n",
       "1      2.650422     -0.648742      0.215413     -0.503899      2.779709   \n",
       "2      2.650422     -0.654285      0.215413     -0.500619      2.779709   \n",
       "3      2.646374     -0.632113      0.205377     -0.510459      2.797995   \n",
       "4      2.646374     -0.640428      0.215413     -0.503899      2.787023   \n",
       "\n",
       "   TCGA-E2-A154       ...        TCGA-AO-A12B  TCGA-A2-A0SW  TCGA-AO-A0JL  \\\n",
       "0      0.862659       ...           -0.963904     -0.487772      -0.10668   \n",
       "1      0.870186       ...           -0.938210     -0.487772      -0.10668   \n",
       "2      0.870186       ...           -0.943919     -0.487772      -0.10668   \n",
       "3      0.866423       ...           -0.935355     -0.487772      -0.10668   \n",
       "4      0.870186       ...           -0.935355     -0.503853      -0.10668   \n",
       "\n",
       "   TCGA-BH-A0BV  TCGA-A2-A0YM  TCGA-BH-A0C7  TCGA-A2-A0SX  263d3f-I.CPTAC  \\\n",
       "0     -0.065838      0.655850     -0.552212     -0.398560        0.598585   \n",
       "1     -0.055893      0.658143     -0.547749     -0.392601        0.606697   \n",
       "2     -0.065838      0.655850     -0.552212     -0.392601        0.603993   \n",
       "3     -0.055893      0.655850     -0.552212     -0.392601        0.603993   \n",
       "4     -0.062523      0.651264     -0.556675     -0.395581        0.603993   \n",
       "\n",
       "   blcdb9-I.CPTAC  c4155b-C.CPTAC  \n",
       "0       -0.191285        0.566975  \n",
       "1       -0.183918        0.578702  \n",
       "2       -0.186022        0.576747  \n",
       "3       -0.186022        0.576747  \n",
       "4       -0.167079        0.576747  \n",
       "\n",
       "[5 rows x 86 columns]"
      ]
     },
     "execution_count": 30,
     "metadata": {},
     "output_type": "execute_result"
    }
   ],
   "source": [
    "# check if the TCGA_ID format is correct in the proteome dataframe\n",
    "proteome.head()"
   ]
  },
  {
   "cell_type": "code",
   "execution_count": 31,
   "metadata": {
    "collapsed": false
   },
   "outputs": [],
   "source": [
    "# save this pd into a temp csv file\n",
    "proteome.to_csv('77_cancer_proteomes_CPTAC_itraq.csv_with_changed_name.csv')"
   ]
  },
  {
   "cell_type": "markdown",
   "metadata": {},
   "source": [
    "### Merge two datasets together for ML analysis later"
   ]
  },
  {
   "cell_type": "code",
   "execution_count": 95,
   "metadata": {
    "collapsed": false
   },
   "outputs": [],
   "source": [
    "# re-read the dataset and change the index of proteome to RefSeq_accession_number\n",
    "proteome = pd.read_csv('77_cancer_proteomes_CPTAC_itraq.csv_with_changed_name.csv', index_col=0)\n",
    "# drop the gene symbol and gene_name\n",
    "proteome.drop(['gene_symbol', 'gene_name'], axis=1, inplace=True)"
   ]
  },
  {
   "cell_type": "code",
   "execution_count": 96,
   "metadata": {
    "collapsed": false
   },
   "outputs": [],
   "source": [
    "# transpose the proteosome to prepare for merging\n",
    "proteome = proteome.transpose()\n",
    "proteome.columns = proteome.ix[0, :]\n",
    "proteome=proteome.ix[1:, :]\n",
    "proteome.head()\n",
    "proteome.to_csv('77_cancer_proteomes_CPTAC_itraq_transposed.csv')"
   ]
  },
  {
   "cell_type": "code",
   "execution_count": 34,
   "metadata": {
    "collapsed": false
   },
   "outputs": [],
   "source": [
    "# Drop the clinical samples that are not in the protein data set\n",
    "clinic = clinic.loc[[_ for _ in clinic.index.tolist() if _ in proteome.index], :]\n",
    "# clinic.head()"
   ]
  },
  {
   "cell_type": "code",
   "execution_count": 35,
   "metadata": {
    "collapsed": false
   },
   "outputs": [],
   "source": [
    "# merge two datasets together and save it as a temp csv\n",
    "merge_proteome_clinic = proteome.merge(clinic,left_index=True,right_index=True)\n",
    "merge_proteome_clinic.to_csv('merge_proteome_clinic.csv')"
   ]
  },
  {
   "cell_type": "markdown",
   "metadata": {},
   "source": [
    "### Prepare data for ML"
   ]
  },
  {
   "cell_type": "code",
   "execution_count": 36,
   "metadata": {
    "collapsed": false
   },
   "outputs": [],
   "source": [
    "merge = pd.read_csv('merge_proteome_clinic.csv', index_col=0)\n",
    "#merge.head()"
   ]
  },
  {
   "cell_type": "code",
   "execution_count": 37,
   "metadata": {
    "collapsed": false
   },
   "outputs": [],
   "source": [
    "# proteome here will be the features for ML later\n",
    "proteome = merge.ix[:, :12553]\n",
    "#proteome.head()"
   ]
  },
  {
   "cell_type": "code",
   "execution_count": 38,
   "metadata": {
    "collapsed": true
   },
   "outputs": [],
   "source": [
    "from sklearn.preprocessing import Imputer\n",
    "\n",
    "imputer = Imputer(missing_values='NaN', strategy='median', axis=1)\n",
    "imputer = imputer.fit(proteome)\n",
    "processed_proteome = imputer.transform(proteome)"
   ]
  },
  {
   "cell_type": "code",
   "execution_count": 39,
   "metadata": {
    "collapsed": false
   },
   "outputs": [],
   "source": [
    "X = processed_proteome"
   ]
  },
  {
   "cell_type": "code",
   "execution_count": 40,
   "metadata": {
    "collapsed": false
   },
   "outputs": [],
   "source": [
    "merge['PAM50 mRNA'] = merge['PAM50 mRNA'].astype('category')\n",
    "merge['PAM50_mRNA_label'] = merge['PAM50 mRNA'].cat.codes"
   ]
  },
  {
   "cell_type": "code",
   "execution_count": 119,
   "metadata": {
    "collapsed": false
   },
   "outputs": [],
   "source": [
    "y = merge['PAM50_mRNA_label'].values"
   ]
  },
  {
   "cell_type": "markdown",
   "metadata": {},
   "source": [
    "### Use t-sne and PCA to visualize data structure before ML"
   ]
  },
  {
   "cell_type": "code",
   "execution_count": 42,
   "metadata": {
    "collapsed": true
   },
   "outputs": [],
   "source": [
    "import sklearn\n",
    "from numpy import linalg\n",
    "from numpy.linalg import norm\n",
    "from scipy.spatial.distance import squareform, pdist"
   ]
  },
  {
   "cell_type": "code",
   "execution_count": null,
   "metadata": {
    "collapsed": false
   },
   "outputs": [],
   "source": []
  },
  {
   "cell_type": "code",
   "execution_count": null,
   "metadata": {
    "collapsed": true
   },
   "outputs": [],
   "source": []
  },
  {
   "cell_type": "code",
   "execution_count": 43,
   "metadata": {
    "collapsed": false
   },
   "outputs": [],
   "source": [
    "# import modules for t-sne or PCA from scikit learn\n",
    "from sklearn.manifold import TSNE\n",
    "from sklearn.decomposition import PCA\n",
    "\n",
    "# transform the dataset via two method\n",
    "X_tsne = TSNE(random_state = 42, perplexity=30, learning_rate=100).fit_transform(X)\n",
    "X_pca = PCA().fit_transform(X)\n",
    "# notice here we are focusing on different strains of yeast, each point in the figure represent one strain\n",
    "# Notice t-sne works really good in terms of seperation while PCA works pretty terrible"
   ]
  },
  {
   "cell_type": "code",
   "execution_count": 120,
   "metadata": {
    "collapsed": false
   },
   "outputs": [
    {
     "data": {
      "image/png": "[encoded data removed]",
      "text/plain": [
       "<matplotlib.figure.Figure at 0x156cd2710>"
      ]
     },
     "metadata": {},
     "output_type": "display_data"
    }
   ],
   "source": [
    "# plot out the result\n",
    "fig = plt.figure(figsize=(15, 5))\n",
    "ax1 = plt.subplot(121)\n",
    "ax1.scatter(X_tsne[:, 0], X_tsne[:, 1], alpha=1, s=30, lw=0, c=y, cmap = 'coolwarm')\n",
    "ax1.set_title('t-sne')\n",
    "ax2 = plt.subplot(122)\n",
    "ax2.scatter(X_pca[:, 0], X_pca[:, 1], alpha = 1, s=30, lw=0, c=y, cmap = 'coolwarm')\n",
    "ax2.set_title('PCA')\n",
    "plt.show()"
   ]
  },
  {
   "cell_type": "markdown",
   "metadata": {},
   "source": [
    "### Playing with t-sne\n",
    "I read an interesting paper about Drop-Seq data analysis using t-sne to identify different types of cells according to transcriptome.    \n",
    "This represent a potential approach that I could use for my project later on.  \n",
    "**Here, I will test this approach and write it up from 'bottom up'.**\n",
    "\n",
    "*ref: http://www.cell.com/cell/abstract/S0092-8674(15)00549-8*"
   ]
  },
  {
   "cell_type": "code",
   "execution_count": 45,
   "metadata": {
    "collapsed": true
   },
   "outputs": [],
   "source": [
    "# plotting out the t-sne with labels at the geometric center of different group of patients\n",
    "def temp_scatter(x, colors):\n",
    "    # We choose a color palette with seaborn.\n",
    "    palette = np.array(sns.color_palette(\"hls\", 4))\n",
    "\n",
    "    # We create a scatter plot.\n",
    "    f = plt.figure(figsize=(6, 6))\n",
    "    ax = plt.subplot(aspect='equal')\n",
    "    sc = ax.scatter(x[:,0], x[:,1], lw=0, s=40,\n",
    "                    c=palette[colors.astype(np.int)])\n",
    "    plt.xlim(-25, 25)\n",
    "    plt.ylim(-25, 25)\n",
    "    ax.axis('off')\n",
    "    ax.axis('tight')\n",
    "\n",
    "    # We add the labels for each digit.\n",
    "    labels = ['Basal-like', 'HER2', 'LumA', 'LumB']\n",
    "    txts = []\n",
    "    for i in range(4):\n",
    "        # Position of each label.\n",
    "        xtext, ytext = np.median(x[colors == i, :], axis=0)\n",
    "        txt = ax.text(xtext, ytext, labels[i], fontsize=24)\n",
    "        txt.set_path_effects([\n",
    "            PathEffects.Stroke(linewidth=5, foreground=\"w\"),\n",
    "            PathEffects.Normal()])\n",
    "        txts.append(txt)\n",
    "\n",
    "    return f, ax, sc, txts"
   ]
  },
  {
   "cell_type": "code",
   "execution_count": 46,
   "metadata": {
    "collapsed": false
   },
   "outputs": [],
   "source": [
    "X_proj = TSNE(random_state=42,learning_rate=100, perplexity=50).fit_transform(X)"
   ]
  },
  {
   "cell_type": "code",
   "execution_count": 47,
   "metadata": {
    "collapsed": false
   },
   "outputs": [
    {
     "data": {
      "image/png": "[encoded data removed]",
      "text/plain": [
       "<matplotlib.figure.Figure at 0x12ba812e8>"
      ]
     },
     "metadata": {},
     "output_type": "display_data"
    }
   ],
   "source": [
    "temp_scatter(X_proj, y)\n",
    "plt.show()"
   ]
  },
  {
   "cell_type": "code",
   "execution_count": 48,
   "metadata": {
    "collapsed": false
   },
   "outputs": [],
   "source": [
    "# monkey-patch the _gradient_descent()\n",
    "positions = []\n",
    "\n",
    "# from https://github.com/scikit-learn/scikit-learn/blob/14031f6/sklearn/manifold/t_sne.py#L497\n",
    "# Dec 25 2017 version\n",
    "def _gradient_descent(objective, p0, it, n_iter, objective_error=None,\n",
    "                      n_iter_check=1, n_iter_without_progress=50,\n",
    "                      momentum=0.5, learning_rate=1000.0, min_gain=0.01,\n",
    "                      min_grad_norm=1e-7, min_error_diff=1e-7, verbose=0,\n",
    "                      args=None, kwargs=None):\n",
    "    if args is None:\n",
    "        args = []\n",
    "    if kwargs is None:\n",
    "        kwargs = {}\n",
    "\n",
    "    p = p0.copy().ravel()\n",
    "    update = np.zeros_like(p)\n",
    "    gains = np.ones_like(p)\n",
    "    error = np.finfo(np.float).max\n",
    "    best_error = np.finfo(np.float).max\n",
    "    best_iter = 0\n",
    "\n",
    "    for i in range(it, n_iter):\n",
    "        # save the current position\n",
    "        positions.append(p.copy())\n",
    "        \n",
    "        new_error, grad = objective(p, *args, **kwargs)\n",
    "        grad_norm = linalg.norm(grad)\n",
    "\n",
    "        inc = update * grad >= 0.0\n",
    "        dec = np.invert(inc)\n",
    "        gains[inc] += 0.05\n",
    "        gains[dec] *= 0.95\n",
    "        np.clip(gains, min_gain, np.inf)\n",
    "        grad *= gains\n",
    "        update = momentum * update - learning_rate * grad\n",
    "        p += update\n",
    "\n",
    "        if (i + 1) % n_iter_check == 0:\n",
    "            if new_error is None:\n",
    "                new_error = objective_error(p, *args)\n",
    "            error_diff = np.abs(new_error - error)\n",
    "            error = new_error\n",
    "\n",
    "            if verbose >= 2:\n",
    "                m = \"[t-SNE] Iteration %d: error = %.7f, gradient norm = %.7f\"\n",
    "                print(m % (i + 1, error, grad_norm))\n",
    "\n",
    "            if error < best_error:\n",
    "                best_error = error\n",
    "                best_iter = i\n",
    "            elif i - best_iter > n_iter_without_progress:\n",
    "                if verbose >= 2:\n",
    "                    print(\"[t-SNE] Iteration %d: did not make any progress \"\n",
    "                          \"during the last %d episodes. Finished.\"\n",
    "                          % (i + 1, n_iter_without_progress))\n",
    "                break\n",
    "            if grad_norm <= min_grad_norm:\n",
    "                if verbose >= 2:\n",
    "                    print(\"[t-SNE] Iteration %d: gradient norm %f. Finished.\"\n",
    "                          % (i + 1, grad_norm))\n",
    "                break\n",
    "            if error_diff <= min_error_diff:\n",
    "                if verbose >= 2:\n",
    "                    m = \"[t-SNE] Iteration %d: error difference %f. Finished.\"\n",
    "                    print(m % (i + 1, error_diff))\n",
    "                break\n",
    "\n",
    "        if new_error is not None:\n",
    "            error = new_error\n",
    "\n",
    "    return p, error, i\n",
    "sklearn.manifold.t_sne._gradient_descent = _gradient_descent"
   ]
  },
  {
   "cell_type": "code",
   "execution_count": 49,
   "metadata": {
    "collapsed": true
   },
   "outputs": [],
   "source": [
    "X_proj = TSNE(random_state=42,learning_rate=10, perplexity=50).fit_transform(X)"
   ]
  },
  {
   "cell_type": "code",
   "execution_count": 50,
   "metadata": {
    "collapsed": false
   },
   "outputs": [],
   "source": [
    "X_iter = np.dstack(position.reshape(-1, 2) for position in positions)"
   ]
  },
  {
   "cell_type": "code",
   "execution_count": 51,
   "metadata": {
    "collapsed": false
   },
   "outputs": [
    {
     "data": {
      "text/plain": [
       "(77, 2, 125)"
      ]
     },
     "execution_count": 51,
     "metadata": {},
     "output_type": "execute_result"
    }
   ],
   "source": [
    "X_iter.shape"
   ]
  },
  {
   "cell_type": "markdown",
   "metadata": {},
   "source": [
    "** something wrong with moviepy, use a hacky way here to show how the t-sne work visually**\n",
    "~~~~\n",
    "for i in range(125):\n",
    "    f, ax, sc, txts = scatter(X_iter[..., i], y)\n",
    "    f.savefig(str(i))\n",
    "    \n",
    "import os\n",
    "png_list = [_ for _ in os.listdir() if _[-3:] == 'png']\n",
    "\n",
    "def getint(name):\n",
    "    basename = name.split('.')[0]\n",
    "    num = basename\n",
    "    return int(num)\n",
    "png_list.sort(key=getint)\n",
    "\n",
    "import imageio\n",
    "images = []\n",
    "for filename in png_list:\n",
    "    images.append(imageio.imread(filename))\n",
    "imageio.mimsave('movie.gif', images)\n",
    "~~~~\n",
    "\n",
    "<img src=\"movie.gif\">"
   ]
  },
  {
   "cell_type": "markdown",
   "metadata": {},
   "source": [
    "### Choose the right features"
   ]
  },
  {
   "cell_type": "code",
   "execution_count": 52,
   "metadata": {
    "collapsed": true
   },
   "outputs": [],
   "source": [
    "pam_file = 'breastcancerproteomes/PAM50_proteins.csv'"
   ]
  },
  {
   "cell_type": "code",
   "execution_count": 53,
   "metadata": {
    "collapsed": false
   },
   "outputs": [
    {
     "data": {
      "text/html": [
       "<div>\n",
       "<table border=\"1\" class=\"dataframe\">\n",
       "  <thead>\n",
       "    <tr style=\"text-align: right;\">\n",
       "      <th></th>\n",
       "      <th>GeneSymbol</th>\n",
       "      <th>RefSeqProteinID</th>\n",
       "      <th>Species</th>\n",
       "      <th>Gene Name</th>\n",
       "    </tr>\n",
       "  </thead>\n",
       "  <tbody>\n",
       "    <tr>\n",
       "      <th>0</th>\n",
       "      <td>MIA</td>\n",
       "      <td>NP_006524</td>\n",
       "      <td>Homo sapiens</td>\n",
       "      <td>melanoma inhibitory activity</td>\n",
       "    </tr>\n",
       "    <tr>\n",
       "      <th>1</th>\n",
       "      <td>FGFR4</td>\n",
       "      <td>NP_002002</td>\n",
       "      <td>Homo sapiens</td>\n",
       "      <td>fibroblast growth factor receptor 4</td>\n",
       "    </tr>\n",
       "    <tr>\n",
       "      <th>2</th>\n",
       "      <td>FGFR4</td>\n",
       "      <td>NP_998812</td>\n",
       "      <td>Homo sapiens</td>\n",
       "      <td>fibroblast growth factor receptor 4</td>\n",
       "    </tr>\n",
       "    <tr>\n",
       "      <th>3</th>\n",
       "      <td>FGFR4</td>\n",
       "      <td>NP_075252</td>\n",
       "      <td>Homo sapiens</td>\n",
       "      <td>fibroblast growth factor receptor 4</td>\n",
       "    </tr>\n",
       "    <tr>\n",
       "      <th>4</th>\n",
       "      <td>GPR160</td>\n",
       "      <td>NP_055188</td>\n",
       "      <td>Homo sapiens</td>\n",
       "      <td>G protein-coupled receptor 160</td>\n",
       "    </tr>\n",
       "  </tbody>\n",
       "</table>\n",
       "</div>"
      ],
      "text/plain": [
       "  GeneSymbol RefSeqProteinID       Species  \\\n",
       "0        MIA       NP_006524  Homo sapiens   \n",
       "1      FGFR4       NP_002002  Homo sapiens   \n",
       "2      FGFR4       NP_998812  Homo sapiens   \n",
       "3      FGFR4       NP_075252  Homo sapiens   \n",
       "4     GPR160       NP_055188  Homo sapiens   \n",
       "\n",
       "                             Gene Name  \n",
       "0         melanoma inhibitory activity  \n",
       "1  fibroblast growth factor receptor 4  \n",
       "2  fibroblast growth factor receptor 4  \n",
       "3  fibroblast growth factor receptor 4  \n",
       "4       G protein-coupled receptor 160  "
      ]
     },
     "execution_count": 53,
     "metadata": {},
     "output_type": "execute_result"
    }
   ],
   "source": [
    "pam = pd.read_csv(pam_file)\n",
    "pam.head()"
   ]
  },
  {
   "cell_type": "code",
   "execution_count": 102,
   "metadata": {
    "collapsed": false
   },
   "outputs": [
    {
     "data": {
      "text/html": [
       "<div>\n",
       "<table border=\"1\" class=\"dataframe\">\n",
       "  <thead>\n",
       "    <tr style=\"text-align: right;\">\n",
       "      <th></th>\n",
       "      <th>NP_958782</th>\n",
       "      <th>NP_958785</th>\n",
       "      <th>NP_958786</th>\n",
       "      <th>NP_000436</th>\n",
       "      <th>NP_958781</th>\n",
       "      <th>NP_958780</th>\n",
       "      <th>NP_958783</th>\n",
       "      <th>NP_958784</th>\n",
       "      <th>NP_112598</th>\n",
       "      <th>NP_001611</th>\n",
       "      <th>...</th>\n",
       "      <th>NP_001193600</th>\n",
       "      <th>NP_061134</th>\n",
       "      <th>NP_932347</th>\n",
       "      <th>NP_003593</th>\n",
       "      <th>NP_997203</th>\n",
       "      <th>NP_001191293</th>\n",
       "      <th>NP_775791</th>\n",
       "      <th>NP_004065</th>\n",
       "      <th>NP_068752</th>\n",
       "      <th>NP_219494</th>\n",
       "    </tr>\n",
       "  </thead>\n",
       "  <tbody>\n",
       "    <tr>\n",
       "      <th>TCGA-AO-A12D</th>\n",
       "      <td>1.096131</td>\n",
       "      <td>1.111370</td>\n",
       "      <td>1.111370</td>\n",
       "      <td>1.107561</td>\n",
       "      <td>1.115180</td>\n",
       "      <td>1.107561</td>\n",
       "      <td>1.111370</td>\n",
       "      <td>1.111370</td>\n",
       "      <td>-1.517390</td>\n",
       "      <td>0.482754</td>\n",
       "      <td>...</td>\n",
       "      <td>NaN</td>\n",
       "      <td>NaN</td>\n",
       "      <td>NaN</td>\n",
       "      <td>-0.340163</td>\n",
       "      <td>NaN</td>\n",
       "      <td>NaN</td>\n",
       "      <td>NaN</td>\n",
       "      <td>NaN</td>\n",
       "      <td>-0.633517</td>\n",
       "      <td>12.666488</td>\n",
       "    </tr>\n",
       "    <tr>\n",
       "      <th>TCGA-C8-A131</th>\n",
       "      <td>2.609943</td>\n",
       "      <td>2.650422</td>\n",
       "      <td>2.650422</td>\n",
       "      <td>2.646374</td>\n",
       "      <td>2.646374</td>\n",
       "      <td>2.646374</td>\n",
       "      <td>2.650422</td>\n",
       "      <td>2.650422</td>\n",
       "      <td>3.909313</td>\n",
       "      <td>-1.045294</td>\n",
       "      <td>...</td>\n",
       "      <td>NaN</td>\n",
       "      <td>NaN</td>\n",
       "      <td>NaN</td>\n",
       "      <td>3.451902</td>\n",
       "      <td>NaN</td>\n",
       "      <td>NaN</td>\n",
       "      <td>NaN</td>\n",
       "      <td>NaN</td>\n",
       "      <td>4.840325</td>\n",
       "      <td>0.140736</td>\n",
       "    </tr>\n",
       "    <tr>\n",
       "      <th>TCGA-AO-A12B</th>\n",
       "      <td>-0.659828</td>\n",
       "      <td>-0.648742</td>\n",
       "      <td>-0.654285</td>\n",
       "      <td>-0.632113</td>\n",
       "      <td>-0.640428</td>\n",
       "      <td>-0.654285</td>\n",
       "      <td>-0.648742</td>\n",
       "      <td>-0.648742</td>\n",
       "      <td>-0.618256</td>\n",
       "      <td>1.222003</td>\n",
       "      <td>...</td>\n",
       "      <td>NaN</td>\n",
       "      <td>NaN</td>\n",
       "      <td>NaN</td>\n",
       "      <td>-1.718531</td>\n",
       "      <td>NaN</td>\n",
       "      <td>NaN</td>\n",
       "      <td>NaN</td>\n",
       "      <td>NaN</td>\n",
       "      <td>-1.965192</td>\n",
       "      <td>-2.854835</td>\n",
       "    </tr>\n",
       "    <tr>\n",
       "      <th>TCGA-BH-A18Q</th>\n",
       "      <td>0.195341</td>\n",
       "      <td>0.215413</td>\n",
       "      <td>0.215413</td>\n",
       "      <td>0.205377</td>\n",
       "      <td>0.215413</td>\n",
       "      <td>0.215413</td>\n",
       "      <td>0.215413</td>\n",
       "      <td>0.215413</td>\n",
       "      <td>-1.035760</td>\n",
       "      <td>-0.517226</td>\n",
       "      <td>...</td>\n",
       "      <td>0.048144</td>\n",
       "      <td>NaN</td>\n",
       "      <td>-0.881872</td>\n",
       "      <td>2.527072</td>\n",
       "      <td>-8.111243</td>\n",
       "      <td>-16.029761</td>\n",
       "      <td>-2.046065</td>\n",
       "      <td>-1.778435</td>\n",
       "      <td>NaN</td>\n",
       "      <td>-3.069752</td>\n",
       "    </tr>\n",
       "    <tr>\n",
       "      <th>TCGA-C8-A130</th>\n",
       "      <td>-0.494060</td>\n",
       "      <td>-0.503899</td>\n",
       "      <td>-0.500619</td>\n",
       "      <td>-0.510459</td>\n",
       "      <td>-0.503899</td>\n",
       "      <td>-0.503899</td>\n",
       "      <td>-0.500619</td>\n",
       "      <td>-0.500619</td>\n",
       "      <td>-1.845366</td>\n",
       "      <td>-0.405503</td>\n",
       "      <td>...</td>\n",
       "      <td>1.457462</td>\n",
       "      <td>NaN</td>\n",
       "      <td>1.710012</td>\n",
       "      <td>0.296389</td>\n",
       "      <td>-1.753529</td>\n",
       "      <td>1.729692</td>\n",
       "      <td>-0.425182</td>\n",
       "      <td>-0.149673</td>\n",
       "      <td>NaN</td>\n",
       "      <td>-0.047997</td>\n",
       "    </tr>\n",
       "  </tbody>\n",
       "</table>\n",
       "<p>5 rows × 12553 columns</p>\n",
       "</div>"
      ],
      "text/plain": [
       "              NP_958782  NP_958785  NP_958786  NP_000436  NP_958781  \\\n",
       "TCGA-AO-A12D   1.096131   1.111370   1.111370   1.107561   1.115180   \n",
       "TCGA-C8-A131   2.609943   2.650422   2.650422   2.646374   2.646374   \n",
       "TCGA-AO-A12B  -0.659828  -0.648742  -0.654285  -0.632113  -0.640428   \n",
       "TCGA-BH-A18Q   0.195341   0.215413   0.215413   0.205377   0.215413   \n",
       "TCGA-C8-A130  -0.494060  -0.503899  -0.500619  -0.510459  -0.503899   \n",
       "\n",
       "              NP_958780  NP_958783  NP_958784  NP_112598  NP_001611  \\\n",
       "TCGA-AO-A12D   1.107561   1.111370   1.111370  -1.517390   0.482754   \n",
       "TCGA-C8-A131   2.646374   2.650422   2.650422   3.909313  -1.045294   \n",
       "TCGA-AO-A12B  -0.654285  -0.648742  -0.648742  -0.618256   1.222003   \n",
       "TCGA-BH-A18Q   0.215413   0.215413   0.215413  -1.035760  -0.517226   \n",
       "TCGA-C8-A130  -0.503899  -0.500619  -0.500619  -1.845366  -0.405503   \n",
       "\n",
       "                ...      NP_001193600  NP_061134  NP_932347  NP_003593  \\\n",
       "TCGA-AO-A12D    ...               NaN        NaN        NaN  -0.340163   \n",
       "TCGA-C8-A131    ...               NaN        NaN        NaN   3.451902   \n",
       "TCGA-AO-A12B    ...               NaN        NaN        NaN  -1.718531   \n",
       "TCGA-BH-A18Q    ...          0.048144        NaN  -0.881872   2.527072   \n",
       "TCGA-C8-A130    ...          1.457462        NaN   1.710012   0.296389   \n",
       "\n",
       "              NP_997203  NP_001191293  NP_775791  NP_004065  NP_068752  \\\n",
       "TCGA-AO-A12D        NaN           NaN        NaN        NaN  -0.633517   \n",
       "TCGA-C8-A131        NaN           NaN        NaN        NaN   4.840325   \n",
       "TCGA-AO-A12B        NaN           NaN        NaN        NaN  -1.965192   \n",
       "TCGA-BH-A18Q  -8.111243    -16.029761  -2.046065  -1.778435        NaN   \n",
       "TCGA-C8-A130  -1.753529      1.729692  -0.425182  -0.149673        NaN   \n",
       "\n",
       "              NP_219494  \n",
       "TCGA-AO-A12D  12.666488  \n",
       "TCGA-C8-A131   0.140736  \n",
       "TCGA-AO-A12B  -2.854835  \n",
       "TCGA-BH-A18Q  -3.069752  \n",
       "TCGA-C8-A130  -0.047997  \n",
       "\n",
       "[5 rows x 12553 columns]"
      ]
     },
     "execution_count": 102,
     "metadata": {},
     "output_type": "execute_result"
    }
   ],
   "source": [
    "prot_file = '77_cancer_proteomes_CPTAC_itraq_transposed.csv'\n",
    "proteome_pam = pd.read_csv(prot_file, index_col=0)\n",
    "proteome_pam.head()"
   ]
  },
  {
   "cell_type": "code",
   "execution_count": 101,
   "metadata": {
    "collapsed": false
   },
   "outputs": [
    {
     "data": {
      "text/html": [
       "<div>\n",
       "<table border=\"1\" class=\"dataframe\">\n",
       "  <thead>\n",
       "    <tr style=\"text-align: right;\">\n",
       "      <th></th>\n",
       "      <th>NP_958785</th>\n",
       "      <th>NP_958786</th>\n",
       "      <th>NP_000436</th>\n",
       "      <th>NP_958781</th>\n",
       "      <th>NP_958780</th>\n",
       "      <th>NP_958783</th>\n",
       "      <th>NP_958784</th>\n",
       "      <th>NP_112598</th>\n",
       "      <th>NP_001611</th>\n",
       "      <th>NP_076965</th>\n",
       "      <th>...</th>\n",
       "      <th>NP_001193600</th>\n",
       "      <th>NP_061134</th>\n",
       "      <th>NP_932347</th>\n",
       "      <th>NP_003593</th>\n",
       "      <th>NP_997203</th>\n",
       "      <th>NP_001191293</th>\n",
       "      <th>NP_775791</th>\n",
       "      <th>NP_004065</th>\n",
       "      <th>NP_068752</th>\n",
       "      <th>NP_219494</th>\n",
       "    </tr>\n",
       "  </thead>\n",
       "  <tbody>\n",
       "    <tr>\n",
       "      <th>TCGA-AO-A12D</th>\n",
       "      <td>1.111370</td>\n",
       "      <td>1.111370</td>\n",
       "      <td>1.107561</td>\n",
       "      <td>1.115180</td>\n",
       "      <td>1.107561</td>\n",
       "      <td>1.111370</td>\n",
       "      <td>1.111370</td>\n",
       "      <td>-1.517390</td>\n",
       "      <td>0.482754</td>\n",
       "      <td>0.261785</td>\n",
       "      <td>...</td>\n",
       "      <td>NaN</td>\n",
       "      <td>NaN</td>\n",
       "      <td>NaN</td>\n",
       "      <td>-0.340163</td>\n",
       "      <td>NaN</td>\n",
       "      <td>NaN</td>\n",
       "      <td>NaN</td>\n",
       "      <td>NaN</td>\n",
       "      <td>-0.633517</td>\n",
       "      <td>12.666488</td>\n",
       "    </tr>\n",
       "    <tr>\n",
       "      <th>TCGA-C8-A131</th>\n",
       "      <td>2.650422</td>\n",
       "      <td>2.650422</td>\n",
       "      <td>2.646374</td>\n",
       "      <td>2.646374</td>\n",
       "      <td>2.646374</td>\n",
       "      <td>2.650422</td>\n",
       "      <td>2.650422</td>\n",
       "      <td>3.909313</td>\n",
       "      <td>-1.045294</td>\n",
       "      <td>-0.037371</td>\n",
       "      <td>...</td>\n",
       "      <td>NaN</td>\n",
       "      <td>NaN</td>\n",
       "      <td>NaN</td>\n",
       "      <td>3.451902</td>\n",
       "      <td>NaN</td>\n",
       "      <td>NaN</td>\n",
       "      <td>NaN</td>\n",
       "      <td>NaN</td>\n",
       "      <td>4.840325</td>\n",
       "      <td>0.140736</td>\n",
       "    </tr>\n",
       "    <tr>\n",
       "      <th>TCGA-AO-A12B</th>\n",
       "      <td>-0.648742</td>\n",
       "      <td>-0.654285</td>\n",
       "      <td>-0.632113</td>\n",
       "      <td>-0.640428</td>\n",
       "      <td>-0.654285</td>\n",
       "      <td>-0.648742</td>\n",
       "      <td>-0.648742</td>\n",
       "      <td>-0.618256</td>\n",
       "      <td>1.222003</td>\n",
       "      <td>1.019685</td>\n",
       "      <td>...</td>\n",
       "      <td>NaN</td>\n",
       "      <td>NaN</td>\n",
       "      <td>NaN</td>\n",
       "      <td>-1.718531</td>\n",
       "      <td>NaN</td>\n",
       "      <td>NaN</td>\n",
       "      <td>NaN</td>\n",
       "      <td>NaN</td>\n",
       "      <td>-1.965192</td>\n",
       "      <td>-2.854835</td>\n",
       "    </tr>\n",
       "    <tr>\n",
       "      <th>TCGA-BH-A18Q</th>\n",
       "      <td>0.215413</td>\n",
       "      <td>0.215413</td>\n",
       "      <td>0.205377</td>\n",
       "      <td>0.215413</td>\n",
       "      <td>0.215413</td>\n",
       "      <td>0.215413</td>\n",
       "      <td>0.215413</td>\n",
       "      <td>-1.035760</td>\n",
       "      <td>-0.517226</td>\n",
       "      <td>-0.724639</td>\n",
       "      <td>...</td>\n",
       "      <td>0.048144</td>\n",
       "      <td>NaN</td>\n",
       "      <td>-0.881872</td>\n",
       "      <td>2.527072</td>\n",
       "      <td>-8.111243</td>\n",
       "      <td>-16.029761</td>\n",
       "      <td>-2.046065</td>\n",
       "      <td>-1.778435</td>\n",
       "      <td>NaN</td>\n",
       "      <td>-3.069752</td>\n",
       "    </tr>\n",
       "    <tr>\n",
       "      <th>TCGA-C8-A130</th>\n",
       "      <td>-0.503899</td>\n",
       "      <td>-0.500619</td>\n",
       "      <td>-0.510459</td>\n",
       "      <td>-0.503899</td>\n",
       "      <td>-0.503899</td>\n",
       "      <td>-0.500619</td>\n",
       "      <td>-0.500619</td>\n",
       "      <td>-1.845366</td>\n",
       "      <td>-0.405503</td>\n",
       "      <td>-0.703971</td>\n",
       "      <td>...</td>\n",
       "      <td>1.457462</td>\n",
       "      <td>NaN</td>\n",
       "      <td>1.710012</td>\n",
       "      <td>0.296389</td>\n",
       "      <td>-1.753529</td>\n",
       "      <td>1.729692</td>\n",
       "      <td>-0.425182</td>\n",
       "      <td>-0.149673</td>\n",
       "      <td>NaN</td>\n",
       "      <td>-0.047997</td>\n",
       "    </tr>\n",
       "  </tbody>\n",
       "</table>\n",
       "<p>5 rows × 12552 columns</p>\n",
       "</div>"
      ],
      "text/plain": [
       "              NP_958785  NP_958786  NP_000436  NP_958781  NP_958780  \\\n",
       "TCGA-AO-A12D   1.111370   1.111370   1.107561   1.115180   1.107561   \n",
       "TCGA-C8-A131   2.650422   2.650422   2.646374   2.646374   2.646374   \n",
       "TCGA-AO-A12B  -0.648742  -0.654285  -0.632113  -0.640428  -0.654285   \n",
       "TCGA-BH-A18Q   0.215413   0.215413   0.205377   0.215413   0.215413   \n",
       "TCGA-C8-A130  -0.503899  -0.500619  -0.510459  -0.503899  -0.503899   \n",
       "\n",
       "              NP_958783  NP_958784  NP_112598  NP_001611  NP_076965  \\\n",
       "TCGA-AO-A12D   1.111370   1.111370  -1.517390   0.482754   0.261785   \n",
       "TCGA-C8-A131   2.650422   2.650422   3.909313  -1.045294  -0.037371   \n",
       "TCGA-AO-A12B  -0.648742  -0.648742  -0.618256   1.222003   1.019685   \n",
       "TCGA-BH-A18Q   0.215413   0.215413  -1.035760  -0.517226  -0.724639   \n",
       "TCGA-C8-A130  -0.500619  -0.500619  -1.845366  -0.405503  -0.703971   \n",
       "\n",
       "                ...      NP_001193600  NP_061134  NP_932347  NP_003593  \\\n",
       "TCGA-AO-A12D    ...               NaN        NaN        NaN  -0.340163   \n",
       "TCGA-C8-A131    ...               NaN        NaN        NaN   3.451902   \n",
       "TCGA-AO-A12B    ...               NaN        NaN        NaN  -1.718531   \n",
       "TCGA-BH-A18Q    ...          0.048144        NaN  -0.881872   2.527072   \n",
       "TCGA-C8-A130    ...          1.457462        NaN   1.710012   0.296389   \n",
       "\n",
       "              NP_997203  NP_001191293  NP_775791  NP_004065  NP_068752  \\\n",
       "TCGA-AO-A12D        NaN           NaN        NaN        NaN  -0.633517   \n",
       "TCGA-C8-A131        NaN           NaN        NaN        NaN   4.840325   \n",
       "TCGA-AO-A12B        NaN           NaN        NaN        NaN  -1.965192   \n",
       "TCGA-BH-A18Q  -8.111243    -16.029761  -2.046065  -1.778435        NaN   \n",
       "TCGA-C8-A130  -1.753529      1.729692  -0.425182  -0.149673        NaN   \n",
       "\n",
       "              NP_219494  \n",
       "TCGA-AO-A12D  12.666488  \n",
       "TCGA-C8-A131   0.140736  \n",
       "TCGA-AO-A12B  -2.854835  \n",
       "TCGA-BH-A18Q  -3.069752  \n",
       "TCGA-C8-A130  -0.047997  \n",
       "\n",
       "[5 rows x 12552 columns]"
      ]
     },
     "execution_count": 101,
     "metadata": {},
     "output_type": "execute_result"
    }
   ],
   "source": [
    "# proteome_pam.columns = proteome_pam.ix[0, :]\n",
    "# proteome_pam = proteome_pam.ix[:, 1:]\n",
    "# proteome_pam.head()"
   ]
  },
  {
   "cell_type": "code",
   "execution_count": 103,
   "metadata": {
    "collapsed": false
   },
   "outputs": [
    {
     "data": {
      "text/plain": [
       "(83, 43)"
      ]
     },
     "execution_count": 103,
     "metadata": {},
     "output_type": "execute_result"
    }
   ],
   "source": [
    "proteome_p50 = proteome_pam.ix[:,proteome_pam.columns.isin(pam['RefSeqProteinID'])]\n",
    "proteome_p50.shape"
   ]
  },
  {
   "cell_type": "code",
   "execution_count": 104,
   "metadata": {
    "collapsed": false
   },
   "outputs": [],
   "source": [
    "merge_p50 = proteome_p50.merge(clinic,left_index=True,right_index=True)\n",
    "merge_p50.head()\n",
    "merge_p50.to_csv('merge_p50.csv')"
   ]
  },
  {
   "cell_type": "code",
   "execution_count": 132,
   "metadata": {
    "collapsed": false
   },
   "outputs": [],
   "source": [
    "proteome_p50 = merge_p50.ix[:, :43]\n",
    "imputer = Imputer(missing_values='NaN', strategy='median', axis=1)\n",
    "imputer = imputer.fit(proteome_p50)\n",
    "X_p50 = imputer.transform(proteome_p50)"
   ]
  },
  {
   "cell_type": "code",
   "execution_count": 133,
   "metadata": {
    "collapsed": true
   },
   "outputs": [],
   "source": [
    "merge_p50['PAM50 mRNA'] = merge_p50['PAM50 mRNA'].astype('category')\n",
    "merge_p50['PAM50_mRNA_label'] = merge_p50['PAM50 mRNA'].cat.codes"
   ]
  },
  {
   "cell_type": "code",
   "execution_count": 134,
   "metadata": {
    "collapsed": false
   },
   "outputs": [],
   "source": [
    "y_p50 = merge_p50['PAM50_mRNA_label'].values"
   ]
  },
  {
   "cell_type": "code",
   "execution_count": 146,
   "metadata": {
    "collapsed": false
   },
   "outputs": [],
   "source": [
    "X_p50_tsne = TSNE(random_state = 42, perplexity=30, learning_rate=30).fit_transform(X_p50)\n",
    "X_p50_pca = PCA().fit_transform(X_p50)"
   ]
  },
  {
   "cell_type": "code",
   "execution_count": 147,
   "metadata": {
    "collapsed": false
   },
   "outputs": [
    {
     "data": {
      "text/plain": [
       "77"
      ]
     },
     "execution_count": 147,
     "metadata": {},
     "output_type": "execute_result"
    }
   ],
   "source": [
    "len(X_p50_tsne)"
   ]
  },
  {
   "cell_type": "code",
   "execution_count": 148,
   "metadata": {
    "collapsed": false
   },
   "outputs": [
    {
     "data": {
      "image/png": "[encoded data removed]",
      "text/plain": [
       "<matplotlib.figure.Figure at 0x1382afac8>"
      ]
     },
     "metadata": {},
     "output_type": "display_data"
    }
   ],
   "source": [
    "fig = plt.figure(figsize=(15, 5))\n",
    "ax1 = plt.subplot(121)\n",
    "ax1.scatter(X_p50_tsne[:, 0], X_p50_tsne[:, 1], alpha=1, s=30, lw=0, c=y_p50, cmap = 'coolwarm')\n",
    "ax1.set_title('t-sne')\n",
    "ax2 = plt.subplot(122)\n",
    "ax2.scatter(X_p50_pca[:, 0], X_p50_pca[:, 1], alpha = 1, s=30, lw=0, c=y_p50, cmap = 'coolwarm')\n",
    "ax2.set_title('PCA')\n",
    "plt.show()"
   ]
  },
  {
   "cell_type": "code",
   "execution_count": 150,
   "metadata": {
    "collapsed": false
   },
   "outputs": [
    {
     "data": {
      "image/png": "[encoded data removed]",
      "text/plain": [
       "<matplotlib.figure.Figure at 0x156caaf98>"
      ]
     },
     "metadata": {},
     "output_type": "display_data"
    }
   ],
   "source": [
    "temp_scatter(X_p50_tsne, y)\n",
    "plt.show()"
   ]
  },
  {
   "cell_type": "markdown",
   "metadata": {},
   "source": [
    "<img src=\"movie2.gif\">"
   ]
  },
  {
   "cell_type": "markdown",
   "metadata": {},
   "source": [
    "### ML to predict"
   ]
  },
  {
   "cell_type": "code",
   "execution_count": null,
   "metadata": {
    "collapsed": true
   },
   "outputs": [],
   "source": []
  },
  {
   "cell_type": "code",
   "execution_count": null,
   "metadata": {
    "collapsed": false
   },
   "outputs": [],
   "source": []
  },
  {
   "cell_type": "code",
   "execution_count": null,
   "metadata": {
    "collapsed": false
   },
   "outputs": [],
   "source": []
  },
  {
   "cell_type": "code",
   "execution_count": null,
   "metadata": {
    "collapsed": true
   },
   "outputs": [],
   "source": []
  },
  {
   "cell_type": "code",
   "execution_count": null,
   "metadata": {
    "collapsed": false
   },
   "outputs": [],
   "source": []
  },
  {
   "cell_type": "code",
   "execution_count": null,
   "metadata": {
    "collapsed": true
   },
   "outputs": [],
   "source": []
  }
 ],
 "metadata": {
  "anaconda-cloud": {},
  "kernelspec": {
   "display_name": "Python [conda root]",
   "language": "python",
   "name": "conda-root-py"
  },
  "language_info": {
   "codemirror_mode": {
    "name": "ipython",
    "version": 3
   },
   "file_extension": ".py",
   "mimetype": "text/x-python",
   "name": "python",
   "nbconvert_exporter": "python",
   "pygments_lexer": "ipython3",
   "version": "3.5.2"
  }
 },
 "nbformat": 4,
 "nbformat_minor": 1
}
