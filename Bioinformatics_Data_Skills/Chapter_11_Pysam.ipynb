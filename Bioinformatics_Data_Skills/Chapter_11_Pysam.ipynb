{
 "cells": [
  {
   "cell_type": "markdown",
   "metadata": {},
   "source": [
    "## Pysam\n",
    "Pysam is an API that allows us to quickly work with data in SAM and BAM files without having to implement parsers.\n",
    "**In this notebook, I will try to use pysam for basic SAM/BAM file analysis**"
   ]
  },
  {
   "cell_type": "code",
   "execution_count": 1,
   "metadata": {
    "collapsed": true
   },
   "outputs": [],
   "source": [
    "# import the module\n",
    "import pysam"
   ]
  },
  {
   "cell_type": "code",
   "execution_count": 2,
   "metadata": {
    "collapsed": true
   },
   "outputs": [],
   "source": [
    "# Using the sample data in 1000 HGP as an example\n",
    "# AlignmentFile(), creating an AlignmentFile object, notice that the mode = 'rb' here. (reading binary)\n",
    "file = 'NA12891_CEU_sample.bam'\n",
    "bamfile = pysam.AlignmentFile(file, mode = 'rb')"
   ]
  },
  {
   "cell_type": "code",
   "execution_count": 3,
   "metadata": {
    "collapsed": false
   },
   "outputs": [
    {
     "name": "stdout",
     "output_type": "stream",
     "text": [
      "['__class__', '__delattr__', '__dir__', '__doc__', '__enter__', '__eq__', '__exit__', '__format__', '__ge__', '__getattribute__', '__gt__', '__hash__', '__init__', '__iter__', '__le__', '__lt__', '__ne__', '__new__', '__next__', '__pyx_vtable__', '__reduce__', '__reduce_ex__', '__repr__', '__setattr__', '__sizeof__', '__str__', '__subclasshook__', '_open', 'check_index', 'close', 'closed', 'count', 'count_coverage', 'fetch', 'filename', 'format', 'get_reference_name', 'get_tid', 'getrname', 'gettid', 'has_index', 'head', 'header', 'is_bam', 'is_cram', 'is_open', 'is_remote', 'is_stream', 'lengths', 'mapped', 'mate', 'nocoordinate', 'nreferences', 'parse_region', 'pileup', 'references', 'reset', 'seek', 'tell', 'text', 'unmapped', 'write']\n"
     ]
    }
   ],
   "source": [
    "# pysam.AlignmentFile class has methods including:\n",
    "print(dir(bamfile))"
   ]
  },
  {
   "cell_type": "code",
   "execution_count": 4,
   "metadata": {
    "collapsed": false
   },
   "outputs": [
    {
     "name": "stdout",
     "output_type": "stream",
     "text": [
      "SRR005672.5788073 aligned at position 215906479\n",
      "SRR005666.5830972 aligned at position 215906486\n",
      "ERR002294.5383813 aligned at position 215906495\n",
      "ERR002375.3090308 aligned at position 215906496\n",
      "SRR001194.8524147 aligned at position 215906496\n",
      "SRR005671.2372792 aligned at position 215906497\n",
      "SRR005674.4540404 aligned at position 215906497\n",
      "ERR002199.547152 aligned at position 215906500\n",
      "SRR002146.10997357 aligned at position 215906504\n",
      "SRR002103.3889922 aligned at position 215906508\n",
      "ERR002069.7016044 aligned at position 215906511\n",
      "SRR002097.1105484 aligned at position 215906511\n",
      "SRR002142.9507830 aligned at position 215906512\n",
      "ERR002375.4495809 aligned at position 215906513\n",
      "ERR002068.5868956 aligned at position 215906513\n",
      "ERR002296.2449481 aligned at position 215906513\n",
      "ERR001778.2831089 aligned at position 215906515\n",
      "ERR001785.2432986 aligned at position 215906515\n",
      "ERR001782.2252685 aligned at position 215906516\n",
      "SRR002086.7835136 aligned at position 215906517\n",
      "ERR001790.1292579 aligned at position 215906522\n",
      "SRR010927.5055019 aligned at position 215906523\n",
      "SRR005666.2536719 aligned at position 215906523\n",
      "SRR005668.3561296 aligned at position 215906526\n",
      "SRR005673.890004 aligned at position 215906528\n",
      "ERR001790.5920502 aligned at position 215906531\n",
      "ERR001786.7075964 aligned at position 215906532\n",
      "ERR001792.4148465 aligned at position 215906533\n",
      "ERR001792.6013400 aligned at position 215906539\n",
      "SRR001171.7340629 aligned at position 215906539\n",
      "ERR002197.4977955 aligned at position 215906543\n",
      "SRR002140.2335436 aligned at position 215906544\n",
      "ERR002292.1229856 aligned at position 215906545\n",
      "SRR010922.7589645 aligned at position 215906547\n",
      "SRR010927.2240495 aligned at position 215906547\n",
      "ERR002201.3763223 aligned at position 215906548\n",
      "SRR014806.11127924 aligned at position 215906549\n",
      "SRR002140.2335436 aligned at position 215906549\n",
      "SRR001199.2434113 aligned at position 215906554\n",
      "ERR002372.6655592 aligned at position 215906556\n",
      "ERR002068.4475735 aligned at position 215906557\n",
      "ERR001804.5838733 aligned at position 215906558\n",
      "SRR002133.5077895 aligned at position 215906561\n",
      "ERR001779.4043371 aligned at position 215906562\n",
      "ERR001805.2523129 aligned at position 215906564\n",
      "ERR001808.6130890 aligned at position 215906564\n",
      "SRR002148.17409341 aligned at position 215906564\n",
      "SRR010922.7589645 aligned at position 215906564\n",
      "SRR010924.1579852 aligned at position 215906565\n",
      "SRR010927.5055019 aligned at position 215906565\n"
     ]
    }
   ],
   "source": [
    "# fetch method is used to get aligned reads from a particular regioni of an indexed BAM file\n",
    "for read in bamfile.fetch('1', start = 215906528, end = 215906567):\n",
    "    print(read.qname, 'aligned at position', read.pos)"
   ]
  },
  {
   "cell_type": "code",
   "execution_count": 5,
   "metadata": {
    "collapsed": false
   },
   "outputs": [],
   "source": [
    "# Or we could directly go through all the reads in BAM/SAM file\n",
    "# Don't forget Alignment File.reset() to reset the position to the head of the BAM file\n",
    "# for read in bamfile:\n",
    "#     status = 'unaligned' if read.is_unmapped else 'aligned'\n",
    "#     print(read.qname, 'is', status)"
   ]
  },
  {
   "cell_type": "code",
   "execution_count": 6,
   "metadata": {
    "collapsed": false
   },
   "outputs": [
    {
     "data": {
      "text/plain": [
       "dict_keys(['RG', 'PG', 'SQ', 'HD'])"
      ]
     },
     "execution_count": 6,
     "metadata": {},
     "output_type": "execute_result"
    }
   ],
   "source": [
    "# all information in the SAM/BAM header\n",
    "# Getting the keys of the header info\n",
    "bamfile.header.keys()"
   ]
  },
  {
   "cell_type": "code",
   "execution_count": 7,
   "metadata": {
    "collapsed": false
   },
   "outputs": [
    {
     "data": {
      "text/plain": [
       "{'CN': 'SC',\n",
       " 'DS': 'SRP000032',\n",
       " 'ID': 'ERR001776',\n",
       " 'LB': 'g1k-sc-NA12891-CEU-1',\n",
       " 'PI': '200',\n",
       " 'PL': 'ILLUMINA',\n",
       " 'SM': 'NA12891'}"
      ]
     },
     "execution_count": 7,
     "metadata": {},
     "output_type": "execute_result"
    }
   ],
   "source": [
    "# extract an example of header information\n",
    "bamfile.header['RG'][0]"
   ]
  },
  {
   "cell_type": "code",
   "execution_count": 8,
   "metadata": {
    "collapsed": false
   },
   "outputs": [
    {
     "data": {
      "text/plain": [
       "{'AS': 'NCBI37',\n",
       " 'LN': 249250621,\n",
       " 'M5': '1b22b98cdeb4a9304cb5d48026a85128',\n",
       " 'SN': '1',\n",
       " 'UR': 'file:/lustre/scratch102/projects/g1k/ref/main_project/human_g1k_v37.fasta'}"
      ]
     },
     "execution_count": 8,
     "metadata": {},
     "output_type": "execute_result"
    }
   ],
   "source": [
    "# extract another example of header information\n",
    "bamfile.header['SQ'][0]"
   ]
  },
  {
   "cell_type": "code",
   "execution_count": 9,
   "metadata": {
    "collapsed": false
   },
   "outputs": [
    {
     "name": "stdout",
     "output_type": "stream",
     "text": [
      "('1', '2', '3', '4', '5', '6', '7', '8', '9', '10', '11', '12', '13', '14', '15', '16', '17', '18', '19', '20', '21', '22', 'X', 'Y', 'MT', 'GL000207.1', 'GL000226.1', 'GL000229.1', 'GL000231.1', 'GL000210.1', 'GL000239.1', 'GL000235.1', 'GL000201.1', 'GL000247.1', 'GL000245.1', 'GL000197.1', 'GL000203.1', 'GL000246.1', 'GL000249.1', 'GL000196.1', 'GL000248.1', 'GL000244.1', 'GL000238.1', 'GL000202.1', 'GL000234.1', 'GL000232.1', 'GL000206.1', 'GL000240.1', 'GL000236.1', 'GL000241.1', 'GL000243.1', 'GL000242.1', 'GL000230.1', 'GL000237.1', 'GL000233.1', 'GL000204.1', 'GL000198.1', 'GL000208.1', 'GL000191.1', 'GL000227.1', 'GL000228.1', 'GL000214.1', 'GL000221.1', 'GL000209.1', 'GL000218.1', 'GL000220.1', 'GL000213.1', 'GL000211.1', 'GL000199.1', 'GL000217.1', 'GL000216.1', 'GL000215.1', 'GL000205.1', 'GL000219.1', 'GL000224.1', 'GL000223.1', 'GL000195.1', 'GL000212.1', 'GL000222.1', 'GL000200.1', 'GL000193.1', 'GL000194.1', 'GL000225.1', 'GL000192.1')\n"
     ]
    }
   ],
   "source": [
    "# reference sequence names and their lengths are stored in two tuples:\n",
    "# The first here is the names: bamfile.references\n",
    "print(bamfile.references)"
   ]
  },
  {
   "cell_type": "code",
   "execution_count": 10,
   "metadata": {
    "collapsed": false
   },
   "outputs": [
    {
     "name": "stdout",
     "output_type": "stream",
     "text": [
      "(249250621, 243199373, 198022430, 191154276, 180915260, 171115067, 159138663, 146364022, 141213431, 135534747, 135006516, 133851895, 115169878, 107349540, 102531392, 90354753, 81195210, 78077248, 59128983, 63025520, 48129895, 51304566, 155270560, 59373566, 16569, 4262, 15008, 19913, 27386, 27682, 33824, 34474, 36148, 36422, 36651, 37175, 37498, 38154, 38502, 38914, 39786, 39929, 39939, 40103, 40531, 40652, 41001, 41933, 41934, 42152, 43341, 43523, 43691, 45867, 45941, 81310, 90085, 92689, 106433, 128374, 129120, 137718, 155397, 159169, 161147, 161802, 164239, 166566, 169874, 172149, 172294, 172545, 174588, 179198, 179693, 180455, 182896, 186858, 186861, 187035, 189789, 191469, 211173, 547496)\n"
     ]
    }
   ],
   "source": [
    "# The second here is the lengths: bamfile.length\n",
    "print(bamfile.lengths)"
   ]
  },
  {
   "cell_type": "code",
   "execution_count": 11,
   "metadata": {
    "collapsed": false
   },
   "outputs": [
    {
     "data": {
      "text/plain": [
       "51"
      ]
     },
     "execution_count": 11,
     "metadata": {},
     "output_type": "execute_result"
    }
   ],
   "source": [
    "# for a specfic read, one can easily extract name, sequence, base qualities, and length\n",
    "# using the following attributes of read object\n",
    "read.query_name\n",
    "read.reference_start\n",
    "read.query_sequence\n",
    "read.query_qualities\n",
    "read.query_length"
   ]
  },
  {
   "cell_type": "markdown",
   "metadata": {
    "collapsed": true
   },
   "source": [
    "## A function based on Pysam to analyze basic alignment statistics\n",
    "Write a short function to gather alignment statistics from SAM or BAM file"
   ]
  },
  {
   "cell_type": "code",
   "execution_count": 12,
   "metadata": {
    "collapsed": true
   },
   "outputs": [],
   "source": [
    "# import modules\n",
    "import sys\n",
    "from collections import Counter\n",
    "\n",
    "def alignment_info(file):\n",
    "    bamfile = pysam.AlignmentFile(file)\n",
    "    \n",
    "    stats = Counter()\n",
    "    for read in bamfile:\n",
    "        stats['total'] += 1\n",
    "        stats['qcfail'] += int(read.is_qcfail)\n",
    "        \n",
    "        # paired end info\n",
    "        stats['paired'] += int(read.is_paired)\n",
    "        stats['read1'] += int(read.is_read1)\n",
    "        stats['read2'] += int(read.is_read2)\n",
    "        \n",
    "        if read.is_unmapped:\n",
    "            stats['unmapped'] += 1\n",
    "            continue\n",
    "        \n",
    "        stats['mapping quality <= 30'] += int(read.mapping_quality <= 30)\n",
    "        \n",
    "        stats['mapped'] += 1\n",
    "        stats['proper pair'] += int(read.is_proper_pair)\n",
    "        \n",
    "        # specify the output order\n",
    "        output_order = ('total', 'mapped', 'unmapped', 'paired', 'read1', \\\n",
    "                        'read2', 'proper pair', 'qcfail', 'mapping quality <= 30')\n",
    "    # format output and print to std out    \n",
    "    for key in output_order:\n",
    "        format_args = (key, stats[key], 100 * stats[key] / float(stats['total']))\n",
    "        sys.stdout.write('%s: %d (%0.2f%%)\\n' % format_args)"
   ]
  },
  {
   "cell_type": "code",
   "execution_count": 13,
   "metadata": {
    "collapsed": false
   },
   "outputs": [
    {
     "name": "stdout",
     "output_type": "stream",
     "text": [
      "total: 636207 (100.00%)\n",
      "mapped: 630875 (99.16%)\n",
      "unmapped: 5332 (0.84%)\n",
      "paired: 435106 (68.39%)\n",
      "read1: 217619 (34.21%)\n",
      "read2: 217487 (34.18%)\n",
      "proper pair: 397247 (62.44%)\n",
      "qcfail: 0 (0.00%)\n",
      "mapping quality <= 30: 90982 (14.30%)\n"
     ]
    }
   ],
   "source": [
    "# a quick test on sample data from 1000 HGP\n",
    "alignment_info('NA12891_CEU_sample.bam')"
   ]
  },
  {
   "cell_type": "code",
   "execution_count": 15,
   "metadata": {
    "collapsed": false
   },
   "outputs": [
    {
     "name": "stdout",
     "output_type": "stream",
     "text": [
      "636207 + 0 in total (QC-passed reads + QC-failed reads)\r\n",
      "0 + 0 secondary\r\n",
      "0 + 0 supplementary\r\n",
      "29826 + 0 duplicates\r\n",
      "630875 + 0 mapped (99.16% : N/A)\r\n",
      "435106 + 0 paired in sequencing\r\n",
      "217619 + 0 read1\r\n",
      "217487 + 0 read2\r\n",
      "397247 + 0 properly paired (91.30% : N/A)\r\n",
      "424442 + 0 with itself and mate mapped\r\n",
      "5332 + 0 singletons (1.23% : N/A)\r\n",
      "5383 + 0 with mate mapped to a different chr\r\n",
      "2190 + 0 with mate mapped to a different chr (mapQ>=5)\r\n"
     ]
    }
   ],
   "source": [
    "# validate the result via samtools flagstat\n",
    "! samtools flagstat NA12891_CEU_sample.bam"
   ]
  },
  {
   "cell_type": "code",
   "execution_count": 16,
   "metadata": {
    "collapsed": false
   },
   "outputs": [
    {
     "name": "stdout",
     "output_type": "stream",
     "text": [
      "539893\n",
      "630875\n"
     ]
    }
   ],
   "source": [
    "# using samtools to count aligments with quality less or equal to 30\n",
    "! samtools view -c -q 31 NA12891_CEU_sample.bam\n",
    "# using samtools to count alignments that are not unmapped (flag == (0X4))\n",
    "! samtools view -c -F 4 NA12891_CEU_sample.bam"
   ]
  },
  {
   "cell_type": "code",
   "execution_count": 19,
   "metadata": {
    "collapsed": false
   },
   "outputs": [
    {
     "name": "stdout",
     "output_type": "stream",
     "text": [
      "Number of reads with mapping quality less than or equal to 30 is 90982\n"
     ]
    }
   ],
   "source": [
    "print('Number of reads with mapping quality less than or equal to 30 is', 630875 - 539893)"
   ]
  },
  {
   "cell_type": "code",
   "execution_count": null,
   "metadata": {
    "collapsed": true
   },
   "outputs": [],
   "source": [
    "# Our test function works right!"
   ]
  }
 ],
 "metadata": {
  "anaconda-cloud": {},
  "kernelspec": {
   "display_name": "Python [conda root]",
   "language": "python",
   "name": "conda-root-py"
  },
  "language_info": {
   "codemirror_mode": {
    "name": "ipython",
    "version": 3
   },
   "file_extension": ".py",
   "mimetype": "text/x-python",
   "name": "python",
   "nbconvert_exporter": "python",
   "pygments_lexer": "ipython3",
   "version": "3.5.2"
  }
 },
 "nbformat": 4,
 "nbformat_minor": 1
}
