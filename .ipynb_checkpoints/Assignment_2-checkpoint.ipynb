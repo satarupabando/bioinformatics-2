{
 "cells": [
  {
   "cell_type": "code",
   "execution_count": 1,
   "metadata": {
    "collapsed": true
   },
   "outputs": [],
   "source": [
    "test_seq = 'ATGCGCCTAGGG'"
   ]
  },
  {
   "cell_type": "code",
   "execution_count": 8,
   "metadata": {
    "collapsed": false
   },
   "outputs": [
    {
     "name": "stderr",
     "output_type": "stream",
     "text": [
      "usage: __main__.py [-h] [-i INFILE] [-k K]\n",
      "__main__.py: error: unrecognized arguments: -f /Users/csyk2/Library/Jupyter/runtime/kernel-03726245-a21b-4b5d-aab6-ebf2323de7a5.json\n"
     ]
    },
    {
     "ename": "SystemExit",
     "evalue": "2",
     "output_type": "error",
     "traceback": [
      "An exception has occurred, use %tb to see the full traceback.\n",
      "\u001b[0;31mSystemExit\u001b[0m\u001b[0;31m:\u001b[0m 2\n"
     ]
    },
    {
     "name": "stderr",
     "output_type": "stream",
     "text": [
      "To exit: use 'exit', 'quit', or Ctrl-D.\n"
     ]
    }
   ],
   "source": [
    "from Bio import SeqIO\n",
    "from argparse import ArgumentParser\n",
    "\n",
    "## Program to count kmers in a fasta file\n",
    "\n",
    "# This function should count kmers and return the result in a dictionary.\n",
    "# !! All possible kmers should be present in the dictionary,\n",
    "# Even if they do not exist in the sequence.\n",
    "\n",
    "def count_kmers(sequenceList, k=2) :\n",
    "    kmer_count = dict()\n",
    "    \n",
    "    for i in range(len(sequenceList) - (k - 1)):\n",
    "        temp_kmer = sequenceList[i : i + k]\n",
    "        if temp_kmer in kmer_count:\n",
    "            kmer_count[temp_kmer] += 1\n",
    "        else:\n",
    "            kmer_count[temp_kmer] = 0\n",
    "\n",
    "    # Note that you get a sequence list instead of a single sequence\n",
    "    # Looping over all sequences...\n",
    "    for sequence in sequenceList :\n",
    "        pass\n",
    "        ### Insert your code here\n",
    "        ### Goal : Fill in kmer_count with counts for each possible kmer\n",
    "        ### Note that your sequences are simple string objects this time so you do not need to use .seq\n",
    "\n",
    "    return kmer_count\n",
    "\n",
    "# This function should normalize kmer counts to provide conditional probabilities\n",
    "# The last letter of the kmer is conditioned on the first k-1\n",
    "\n",
    "def normalize_counts(kmer_count, k=2):\n",
    "    kmer_prob = dict()\n",
    "\n",
    "    ### Insert your code here\n",
    "    ### Goal : Normalize kmer_count to produce kmer_prob\n",
    "    ### Remember to implement pseudocounts if you have not already\n",
    "    \n",
    "    return kmer_probs\n",
    "\n",
    "if __name__ == '__main__' :\n",
    "\n",
    "    # Define program parameters\n",
    "    parser = ArgumentParser(description='Reads a fasta sequence and counts k-mers')\n",
    "    parser.add_argument('-i', '--infile', help='input file in fasta format')\n",
    "    parser.add_argument('-k', type=int, default=2, help='k as in k-mer')\n",
    "    args = parser.parse_args()\n",
    "\n",
    "    # Read training sequences from fasta file\n",
    "    sequences = [str(record.seq) for record in SeqIO.parse(args.infile, 'fasta') ]\n",
    "\n",
    "    # Count all the kmers in these sequences\n",
    "    counts = count_kmers(sequences,args.k)\n",
    "\n",
    "    # Normalize counts to get conditional probabilities\n",
    "    probs = normalize_counts(counts)\n",
    "\n",
    "    # Print the resulting conditional probabilities\n",
    "    for kmer in probs :\n",
    "        print(kmer, probs[kmer])\n",
    "    # Note that we print everything to stdout rather than write to a file\n",
    "    # User has the option to redirect to a file"
   ]
  },
  {
   "cell_type": "code",
   "execution_count": 21,
   "metadata": {
    "collapsed": true
   },
   "outputs": [],
   "source": [
    "def count_kmers(sequenceList, k=2) :\n",
    "    kmer_count = dict()\n",
    "    for seq in seuenceList:\n",
    "    \n",
    "    \n",
    "        for i in range(len(seq) - (k - 1)):\n",
    "            temp_kmer = str(seq[i : i + k])\n",
    "            if temp_kmer in kmer_count:\n",
    "                kmer_count[temp_kmer] += 1\n",
    "            else:\n",
    "                kmer_count[temp_kmer] = 1\n",
    "            \n",
    "    return kmer_count\n",
    "\n",
    "#     # Note that you get a sequence list instead of a single sequence\n",
    "#     # Looping over all sequences...\n",
    "#     for sequence in sequenceList :\n",
    "#         pass\n",
    "#         ### Insert your code here\n",
    "#         ### Goal : Fill in kmer_count with counts for each possible kmer\n",
    "#         ### Note that your sequences are simple string objects this time so you do not need to use .seq\n",
    "\n",
    "#     return kmer_count"
   ]
  },
  {
   "cell_type": "code",
   "execution_count": 22,
   "metadata": {
    "collapsed": false
   },
   "outputs": [
    {
     "data": {
      "text/plain": [
       "['A', 'T', 'G', 'C', 'C', 'G', 'T', 'A', 'A', 'T', 'A', 'T', 'A', 'T']"
      ]
     },
     "execution_count": 22,
     "metadata": {},
     "output_type": "execute_result"
    }
   ],
   "source": [
    "test_seq = list('ATGCCGTAATATAT')\n",
    "test_seq"
   ]
  },
  {
   "cell_type": "code",
   "execution_count": 23,
   "metadata": {
    "collapsed": false
   },
   "outputs": [
    {
     "data": {
      "text/plain": [
       "{\"['A', 'A']\": 1,\n",
       " \"['A', 'T']\": 4,\n",
       " \"['C', 'C']\": 1,\n",
       " \"['C', 'G']\": 1,\n",
       " \"['G', 'C']\": 1,\n",
       " \"['G', 'T']\": 1,\n",
       " \"['T', 'A']\": 3,\n",
       " \"['T', 'G']\": 1}"
      ]
     },
     "execution_count": 23,
     "metadata": {},
     "output_type": "execute_result"
    }
   ],
   "source": [
    "count_kmers(test_seq)"
   ]
  },
  {
   "cell_type": "code",
   "execution_count": null,
   "metadata": {
    "collapsed": true
   },
   "outputs": [],
   "source": [
    "from argparse import ArgumentParser\n",
    "from random import random\n",
    "import sys\n",
    "\n",
    "nuc = list('ATGC')\n",
    "# Function to generate initial (marginal) probabilities from conditional probabilities\n",
    "def generate_init_prob(cond_prob) :\n",
    "    initial=dict()\n",
    "    \n",
    "    for temp_nuc in nuc:\n",
    "        initial[temp_nuc] = sum([i for i in kmers_probs if i[0] == temp_nuc])\n",
    "        \n",
    "     \n",
    "    ### Insert your code here\n",
    "    ### Goal : get marginal probabilities for A,C,T,G\n",
    "    ### e.g. P(A) from P(A|A), P(A|T), P(A|C), P(A|G)\n",
    "\n",
    "    return initial\n",
    "\n",
    "def generate_markov(length, cond_prob, order=1) :\n",
    "\n",
    "    sequence=''\n",
    "\n",
    "    # Generate initial probabilities from conditional probabilities\n",
    "    init_prob = generate_init_prob(cond_prob)\n",
    "\n",
    "    ### Insert your code here\n",
    "    ### Goal 1 : generate first character\n",
    "\n",
    "    assert len(sequence) == order, 'First character was not generated'\n",
    "\n",
    "    ### Insert your code here\n",
    "    ### Goal 2 : generate rest of the sequence\n",
    "\n",
    "    assert len(sequence) == length, 'Sequence is wrong length'\n",
    "\n",
    "    return sequence\n",
    "\n",
    "\n",
    "if __name__ == '__main__' :\n",
    "\n",
    "    # Define program parameters\n",
    "    parser = ArgumentParser(description='Generates a random sequence using a markov chain')\n",
    "    parser.add_argument('-o', '--order', type=int, default=1, help='order of markov chain')\n",
    "    parser.add_argument('-l', '--length', type=int, default=10, help='length of sequences')\n",
    "    parser.add_argument('-n', '--number', type=int, default=1, help='number of sequences')\n",
    "    args = parser.parse_args()\n",
    "\n",
    "    # Read model parameters from stdin\n",
    "    cond_prob = dict()\n",
    "    for line in sys.stdin :\n",
    "        kmer, prob = line.strip().split()\n",
    "        cond_prob[kmer] = float(prob)\n",
    "\n",
    "    # Print n random sequences to stdout\n",
    "    for i in range(args.n) :\n",
    "        print generate_markov (args.length, cond_prob)"
   ]
  }
 ],
 "metadata": {
  "kernelspec": {
   "display_name": "Python [Root]",
   "language": "python",
   "name": "Python [Root]"
  },
  "language_info": {
   "codemirror_mode": {
    "name": "ipython",
    "version": 3
   },
   "file_extension": ".py",
   "mimetype": "text/x-python",
   "name": "python",
   "nbconvert_exporter": "python",
   "pygments_lexer": "ipython3",
   "version": "3.5.2"
  }
 },
 "nbformat": 4,
 "nbformat_minor": 0
}
