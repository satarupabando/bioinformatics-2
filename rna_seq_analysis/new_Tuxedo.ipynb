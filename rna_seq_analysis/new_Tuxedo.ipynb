{
 "cells": [
  {
   "cell_type": "markdown",
   "metadata": {},
   "source": [
    "## Overview\n",
    "\n",
    "#### Goal\n",
    "Here is a notebook that I went through the first part of the reference protocol of the new Tuxedo suite for RNA-Seq analysis. In this notebook, we are using **hisat2** and **stringtie** to align/ assemble&count transcripts/ merge transcripts assembly and output gtf files for **Ballgown** to analyze later on.\n",
    "\n",
    "#### Rationale behind using jypyter notebook here\n",
    "It is much easier to annotate on the notebook and looks much better\n",
    "\n",
    "#### Outline\n",
    "1. Hisat (2.0.5)      \n",
    "    To map the reads to the reference genome    \n",
    "2. StringTie (1.4.1)    \n",
    "    Assemble the transcripts  \n",
    "    Merge   \n",
    "    Estimate transcript abundances and output\n",
    "    \n",
    "#### Follow-up\n",
    "Bash shell scripts "
   ]
  },
  {
   "cell_type": "markdown",
   "metadata": {},
   "source": [
    "### Map the reads for each sample to the reference genome:\n",
    "surprised how fast hisat2 is on a laptop (MacBook Pro 15inch 2014, 16G RAM, i7(4 cores))"
   ]
  },
  {
   "cell_type": "code",
   "execution_count": 3,
   "metadata": {
    "collapsed": false
   },
   "outputs": [
    {
     "name": "stdout",
     "output_type": "stream",
     "text": [
      "1321477 reads; of these:\r\n",
      "  1321477 (100.00%) were paired; of these:\r\n",
      "    121755 (9.21%) aligned concordantly 0 times\r\n",
      "    1034253 (78.26%) aligned concordantly exactly 1 time\r\n",
      "    165469 (12.52%) aligned concordantly >1 times\r\n",
      "    ----\r\n",
      "    121755 pairs aligned concordantly 0 times; of these:\r\n",
      "      4198 (3.45%) aligned discordantly 1 time\r\n",
      "    ----\r\n",
      "    117557 pairs aligned 0 times concordantly or discordantly; of these:\r\n",
      "      235114 mates make up the pairs; of these:\r\n",
      "        119964 (51.02%) aligned 0 times\r\n",
      "        94894 (40.36%) aligned exactly 1 time\r\n",
      "        20256 (8.62%) aligned >1 times\r\n",
      "95.46% overall alignment rate\r\n"
     ]
    }
   ],
   "source": [
    "! hisat2 -p 8 --dta -x chrX_data/indexes/chrX_tran -1\\\n",
    "  chrX_data/samples/ERR188044_chrX_1.fastq.gz -2\\\n",
    "  chrX_data/samples/ERR188044_chrX_2.fastq.gz -S ERR188044_chrX.sam"
   ]
  },
  {
   "cell_type": "code",
   "execution_count": 6,
   "metadata": {
    "collapsed": false,
    "scrolled": false
   },
   "outputs": [
    {
     "name": "stdout",
     "output_type": "stream",
     "text": [
      "1292343 reads; of these:\n",
      "  1292343 (100.00%) were paired; of these:\n",
      "    105844 (8.19%) aligned concordantly 0 times\n",
      "    1031622 (79.83%) aligned concordantly exactly 1 time\n",
      "    154877 (11.98%) aligned concordantly >1 times\n",
      "    ----\n",
      "    105844 pairs aligned concordantly 0 times; of these:\n",
      "      3928 (3.71%) aligned discordantly 1 time\n",
      "    ----\n",
      "    101916 pairs aligned 0 times concordantly or discordantly; of these:\n",
      "      203832 mates make up the pairs; of these:\n",
      "        103300 (50.68%) aligned 0 times\n",
      "        81541 (40.00%) aligned exactly 1 time\n",
      "        18991 (9.32%) aligned >1 times\n",
      "96.00% overall alignment rate\n",
      "1567664 reads; of these:\n",
      "  1567664 (100.00%) were paired; of these:\n",
      "    164262 (10.48%) aligned concordantly 0 times\n",
      "    1131451 (72.17%) aligned concordantly exactly 1 time\n",
      "    271951 (17.35%) aligned concordantly >1 times\n",
      "    ----\n",
      "    164262 pairs aligned concordantly 0 times; of these:\n",
      "      3879 (2.36%) aligned discordantly 1 time\n",
      "    ----\n",
      "    160383 pairs aligned 0 times concordantly or discordantly; of these:\n",
      "      320766 mates make up the pairs; of these:\n",
      "        163113 (50.85%) aligned 0 times\n",
      "        121791 (37.97%) aligned exactly 1 time\n",
      "        35862 (11.18%) aligned >1 times\n",
      "94.80% overall alignment rate\n",
      "855983 reads; of these:\n",
      "  855983 (100.00%) were paired; of these:\n",
      "    66655 (7.79%) aligned concordantly 0 times\n",
      "    693162 (80.98%) aligned concordantly exactly 1 time\n",
      "    96166 (11.23%) aligned concordantly >1 times\n",
      "    ----\n",
      "    66655 pairs aligned concordantly 0 times; of these:\n",
      "      2275 (3.41%) aligned discordantly 1 time\n",
      "    ----\n",
      "    64380 pairs aligned 0 times concordantly or discordantly; of these:\n",
      "      128760 mates make up the pairs; of these:\n",
      "        65585 (50.94%) aligned 0 times\n",
      "        53046 (41.20%) aligned exactly 1 time\n",
      "        10129 (7.87%) aligned >1 times\n",
      "96.17% overall alignment rate\n",
      "960410 reads; of these:\n",
      "  960410 (100.00%) were paired; of these:\n",
      "    94172 (9.81%) aligned concordantly 0 times\n",
      "    727026 (75.70%) aligned concordantly exactly 1 time\n",
      "    139212 (14.50%) aligned concordantly >1 times\n",
      "    ----\n",
      "    94172 pairs aligned concordantly 0 times; of these:\n",
      "      1822 (1.93%) aligned discordantly 1 time\n",
      "    ----\n",
      "    92350 pairs aligned 0 times concordantly or discordantly; of these:\n",
      "      184700 mates make up the pairs; of these:\n",
      "        94273 (51.04%) aligned 0 times\n",
      "        71716 (38.83%) aligned exactly 1 time\n",
      "        18711 (10.13%) aligned >1 times\n",
      "95.09% overall alignment rate\n",
      "580042 reads; of these:\n",
      "  580042 (100.00%) were paired; of these:\n",
      "    50032 (8.63%) aligned concordantly 0 times\n",
      "    465267 (80.21%) aligned concordantly exactly 1 time\n",
      "    64743 (11.16%) aligned concordantly >1 times\n",
      "    ----\n",
      "    50032 pairs aligned concordantly 0 times; of these:\n",
      "      1361 (2.72%) aligned discordantly 1 time\n",
      "    ----\n",
      "    48671 pairs aligned 0 times concordantly or discordantly; of these:\n",
      "      97342 mates make up the pairs; of these:\n",
      "        50053 (51.42%) aligned 0 times\n",
      "        36650 (37.65%) aligned exactly 1 time\n",
      "        10639 (10.93%) aligned >1 times\n",
      "95.69% overall alignment rate\n",
      "1277811 reads; of these:\n",
      "  1277811 (100.00%) were paired; of these:\n",
      "    98072 (7.68%) aligned concordantly 0 times\n",
      "    896148 (70.13%) aligned concordantly exactly 1 time\n",
      "    283591 (22.19%) aligned concordantly >1 times\n",
      "    ----\n",
      "    98072 pairs aligned concordantly 0 times; of these:\n",
      "      2426 (2.47%) aligned discordantly 1 time\n",
      "    ----\n",
      "    95646 pairs aligned 0 times concordantly or discordantly; of these:\n",
      "      191292 mates make up the pairs; of these:\n",
      "        97776 (51.11%) aligned 0 times\n",
      "        74839 (39.12%) aligned exactly 1 time\n",
      "        18677 (9.76%) aligned >1 times\n",
      "96.17% overall alignment rate\n",
      "964467 reads; of these:\n",
      "  964467 (100.00%) were paired; of these:\n",
      "    59224 (6.14%) aligned concordantly 0 times\n",
      "    720153 (74.67%) aligned concordantly exactly 1 time\n",
      "    185090 (19.19%) aligned concordantly >1 times\n",
      "    ----\n",
      "    59224 pairs aligned concordantly 0 times; of these:\n",
      "      1919 (3.24%) aligned discordantly 1 time\n",
      "    ----\n",
      "    57305 pairs aligned 0 times concordantly or discordantly; of these:\n",
      "      114610 mates make up the pairs; of these:\n",
      "        58198 (50.78%) aligned 0 times\n",
      "        45354 (39.57%) aligned exactly 1 time\n",
      "        11058 (9.65%) aligned >1 times\n",
      "96.98% overall alignment rate\n",
      "1317533 reads; of these:\n",
      "  1317533 (100.00%) were paired; of these:\n",
      "    98149 (7.45%) aligned concordantly 0 times\n",
      "    1000636 (75.95%) aligned concordantly exactly 1 time\n",
      "    218748 (16.60%) aligned concordantly >1 times\n",
      "    ----\n",
      "    98149 pairs aligned concordantly 0 times; of these:\n",
      "      3775 (3.85%) aligned discordantly 1 time\n",
      "    ----\n",
      "    94374 pairs aligned 0 times concordantly or discordantly; of these:\n",
      "      188748 mates make up the pairs; of these:\n",
      "        95447 (50.57%) aligned 0 times\n",
      "        75664 (40.09%) aligned exactly 1 time\n",
      "        17637 (9.34%) aligned >1 times\n",
      "96.38% overall alignment rate\n",
      "843202 reads; of these:\n",
      "  843202 (100.00%) were paired; of these:\n",
      "    64054 (7.60%) aligned concordantly 0 times\n",
      "    641739 (76.11%) aligned concordantly exactly 1 time\n",
      "    137409 (16.30%) aligned concordantly >1 times\n",
      "    ----\n",
      "    64054 pairs aligned concordantly 0 times; of these:\n",
      "      2068 (3.23%) aligned discordantly 1 time\n",
      "    ----\n",
      "    61986 pairs aligned 0 times concordantly or discordantly; of these:\n",
      "      123972 mates make up the pairs; of these:\n",
      "        62822 (50.67%) aligned 0 times\n",
      "        50005 (40.34%) aligned exactly 1 time\n",
      "        11145 (8.99%) aligned >1 times\n",
      "96.27% overall alignment rate\n",
      "1040823 reads; of these:\n",
      "  1040823 (100.00%) were paired; of these:\n",
      "    68402 (6.57%) aligned concordantly 0 times\n",
      "    736332 (70.75%) aligned concordantly exactly 1 time\n",
      "    236089 (22.68%) aligned concordantly >1 times\n",
      "    ----\n",
      "    68402 pairs aligned concordantly 0 times; of these:\n",
      "      2018 (2.95%) aligned discordantly 1 time\n",
      "    ----\n",
      "    66384 pairs aligned 0 times concordantly or discordantly; of these:\n",
      "      132768 mates make up the pairs; of these:\n",
      "        67495 (50.84%) aligned 0 times\n",
      "        50500 (38.04%) aligned exactly 1 time\n",
      "        14773 (11.13%) aligned >1 times\n",
      "96.76% overall alignment rate\n",
      "1097498 reads; of these:\n",
      "  1097498 (100.00%) were paired; of these:\n",
      "    86340 (7.87%) aligned concordantly 0 times\n",
      "    808559 (73.67%) aligned concordantly exactly 1 time\n",
      "    202599 (18.46%) aligned concordantly >1 times\n",
      "    ----\n",
      "    86340 pairs aligned concordantly 0 times; of these:\n",
      "      2695 (3.12%) aligned discordantly 1 time\n",
      "    ----\n",
      "    83645 pairs aligned 0 times concordantly or discordantly; of these:\n",
      "      167290 mates make up the pairs; of these:\n",
      "        85234 (50.95%) aligned 0 times\n",
      "        63348 (37.87%) aligned exactly 1 time\n",
      "        18708 (11.18%) aligned >1 times\n",
      "96.12% overall alignment rate\n",
      "CPU times: user 2.38 s, sys: 593 ms, total: 2.98 s\n",
      "Wall time: 3min 15s\n"
     ]
    }
   ],
   "source": [
    "%%time\n",
    "! hisat2 -p 8 --dta -x chrX_data/indexes/chrX_tran -1 chrX_data/samples/ERR188104_chrX_1.fastq.gz -2 chrX_data/samples/ERR188104_chrX_2.fastq.gz -S ERR188104_chrX.sam\n",
    "! hisat2 -p 8 --dta -x chrX_data/indexes/chrX_tran -1 chrX_data/samples/ERR188234_chrX_1.fastq.gz -2 chrX_data/samples/ERR188234_chrX_2.fastq.gz -S ERR188234_chrX.sam\n",
    "! hisat2 -p 8 --dta -x chrX_data/indexes/chrX_tran -1 chrX_data/samples/ERR188245_chrX_1.fastq.gz -2 chrX_data/samples/ERR188245_chrX_2.fastq.gz -S ERR188245_chrX.sam\n",
    "! hisat2 -p 8 --dta -x chrX_data/indexes/chrX_tran -1 chrX_data/samples/ERR188257_chrX_1.fastq.gz -2 chrX_data/samples/ERR188257_chrX_2.fastq.gz -S ERR188257_chrX.sam\n",
    "! hisat2 -p 8 --dta -x chrX_data/indexes/chrX_tran -1 chrX_data/samples/ERR188273_chrX_1.fastq.gz -2 chrX_data/samples/ERR188273_chrX_2.fastq.gz -S ERR188273_chrX.sam\n",
    "! hisat2 -p 8 --dta -x chrX_data/indexes/chrX_tran -1 chrX_data/samples/ERR188337_chrX_1.fastq.gz -2 chrX_data/samples/ERR188337_chrX_2.fastq.gz -S ERR188337_chrX.sam\n",
    "! hisat2 -p 8 --dta -x chrX_data/indexes/chrX_tran -1 chrX_data/samples/ERR188383_chrX_1.fastq.gz -2 chrX_data/samples/ERR188383_chrX_2.fastq.gz -S ERR188383_chrX.sam\n",
    "! hisat2 -p 8 --dta -x chrX_data/indexes/chrX_tran -1 chrX_data/samples/ERR188401_chrX_1.fastq.gz -2 chrX_data/samples/ERR188401_chrX_2.fastq.gz -S ERR188401_chrX.sam\n",
    "! hisat2 -p 8 --dta -x chrX_data/indexes/chrX_tran -1 chrX_data/samples/ERR188428_chrX_1.fastq.gz -2 chrX_data/samples/ERR188428_chrX_2.fastq.gz -S ERR188428_chrX.sam\n",
    "! hisat2 -p 8 --dta -x chrX_data/indexes/chrX_tran -1 chrX_data/samples/ERR188454_chrX_1.fastq.gz -2 chrX_data/samples/ERR188454_chrX_2.fastq.gz -S ERR188454_chrX.sam\n",
    "! hisat2 -p 8 --dta -x chrX_data/indexes/chrX_tran -1 chrX_data/samples/ERR204916_chrX_1.fastq.gz -2 chrX_data/samples/ERR204916_chrX_2.fastq.gz -S ERR204916_chrX.sam"
   ]
  },
  {
   "cell_type": "markdown",
   "metadata": {},
   "source": [
    "#### general info of hisat"
   ]
  },
  {
   "cell_type": "code",
   "execution_count": 1,
   "metadata": {
    "collapsed": false
   },
   "outputs": [
    {
     "name": "stdout",
     "output_type": "stream",
     "text": [
      "HISAT2 version 2.0.5 by Daehwan Kim (infphilo@gmail.com, www.ccb.jhu.edu/people/infphilo)\r\n",
      "Usage: \r\n",
      "  hisat2 [options]* -x <ht2-idx> {-1 <m1> -2 <m2> | -U <r> | --sra-acc <SRA accession number>} [-S <sam>]\r\n",
      "\r\n",
      "  <ht2-idx>  Index filename prefix (minus trailing .X.ht2).\r\n",
      "  <m1>       Files with #1 mates, paired with files in <m2>.\r\n",
      "             Could be gzip'ed (extension: .gz) or bzip2'ed (extension: .bz2).\r\n",
      "  <m2>       Files with #2 mates, paired with files in <m1>.\r\n",
      "             Could be gzip'ed (extension: .gz) or bzip2'ed (extension: .bz2).\r\n",
      "  <r>        Files with unpaired reads.\r\n",
      "             Could be gzip'ed (extension: .gz) or bzip2'ed (extension: .bz2).\r\n",
      "  <SRA accession number>        Comma-separated list of SRA accession numbers, e.g. --sra-acc SRR353653,SRR353654.\r\n",
      "  <sam>      File for SAM output (default: stdout)\r\n",
      "\r\n",
      "  <m1>, <m2>, <r> can be comma-separated lists (no whitespace) and can be\r\n",
      "  specified many times.  E.g. '-U file1.fq,file2.fq -U file3.fq'.\r\n",
      "\r\n",
      "Options (defaults in parentheses):\r\n",
      "\r\n",
      " Input:\r\n",
      "  -q                 query input files are FASTQ .fq/.fastq (default)\r\n",
      "  --qseq             query input files are in Illumina's qseq format\r\n",
      "  -f                 query input files are (multi-)FASTA .fa/.mfa\r\n",
      "  -r                 query input files are raw one-sequence-per-line\r\n",
      "  -c                 <m1>, <m2>, <r> are sequences themselves, not files\r\n",
      "  -s/--skip <int>    skip the first <int> reads/pairs in the input (none)\r\n",
      "  -u/--upto <int>    stop after first <int> reads/pairs (no limit)\r\n",
      "  -5/--trim5 <int>   trim <int> bases from 5'/left end of reads (0)\r\n",
      "  -3/--trim3 <int>   trim <int> bases from 3'/right end of reads (0)\r\n",
      "  --phred33          qualities are Phred+33 (default)\r\n",
      "  --phred64          qualities are Phred+64\r\n",
      "  --int-quals        qualities encoded as space-delimited integers\r\n",
      "  --sra-acc          SRA accession ID\r\n",
      "\r\n",
      " Alignment:\r\n",
      "  --n-ceil <func>    func for max # non-A/C/G/Ts permitted in aln (L,0,0.15)\r\n",
      "  --ignore-quals     treat all quality values as 30 on Phred scale (off)\r\n",
      "  --nofw             do not align forward (original) version of read (off)\r\n",
      "  --norc             do not align reverse-complement version of read (off)\r\n",
      "\r\n",
      " Spliced Alignment:\r\n",
      "  --pen-cansplice <int>              penalty for a canonical splice site (0)\r\n",
      "  --pen-noncansplice <int>           penalty for a non-canonical splice site (12)\r\n",
      "  --pen-canintronlen <func>          penalty for long introns (G,-8,1) with canonical splice sites\r\n",
      "  --pen-noncanintronlen <func>       penalty for long introns (G,-8,1) with noncanonical splice sites\r\n",
      "  --min-intronlen <int>              minimum intron length (20)\r\n",
      "  --max-intronlen <int>              maximum intron length (500000)\r\n",
      "  --known-splicesite-infile <path>   provide a list of known splice sites\r\n",
      "  --novel-splicesite-outfile <path>  report a list of splice sites\r\n",
      "  --novel-splicesite-infile <path>   provide a list of novel splice sites\r\n",
      "  --no-temp-splicesite               disable the use of splice sites found\r\n",
      "  --no-spliced-alignment             disable spliced alignment\r\n",
      "  --rna-strandness <string>          Specify strand-specific information (unstranded)\r\n",
      "  --tmo                              Reports only those alignments within known transcriptome\r\n",
      "  --dta                              Reports alignments tailored for transcript assemblers\r\n",
      "  --dta-cufflinks                    Reports alignments tailored specifically for cufflinks\r\n",
      "\r\n",
      " Scoring:\r\n",
      "  --ma <int>         match bonus (0 for --end-to-end, 2 for --local) \r\n",
      "  --mp <int>,<int>   max and min penalties for mismatch; lower qual = lower penalty <2,6>\r\n",
      "  --sp <int>,<int>   max and min penalties for soft-clipping; lower qual = lower penalty <1,2>\r\n",
      "  --no-softclip      no soft-clipping\r\n",
      "  --np <int>         penalty for non-A/C/G/Ts in read/ref (1)\r\n",
      "  --rdg <int>,<int>  read gap open, extend penalties (5,3)\r\n",
      "  --rfg <int>,<int>  reference gap open, extend penalties (5,3)\r\n",
      "  --score-min <func> min acceptable alignment score w/r/t read length\r\n",
      "                     (L,0.0,-0.2)\r\n",
      "\r\n",
      " Reporting:\r\n",
      "  -k <int> (default: 5) report up to <int> alns per read\r\n",
      "\r\n",
      " Paired-end:\r\n",
      "  -I/--minins <int>  minimum fragment length (0), only valid with --no-spliced-alignment\r\n",
      "  -X/--maxins <int>  maximum fragment length (500), only valid with --no-spliced-alignment\r\n",
      "  --fr/--rf/--ff     -1, -2 mates align fw/rev, rev/fw, fw/fw (--fr)\r\n",
      "  --no-mixed         suppress unpaired alignments for paired reads\r\n",
      "  --no-discordant    suppress discordant alignments for paired reads\r\n",
      "\r\n",
      " Output:\r\n",
      "  -t/--time          print wall-clock time taken by search phases\r\n",
      "  --un <path>           write unpaired reads that didn't align to <path>\r\n",
      "  --al <path>           write unpaired reads that aligned at least once to <path>\r\n",
      "  --un-conc <path>      write pairs that didn't align concordantly to <path>\r\n",
      "  --al-conc <path>      write pairs that aligned concordantly at least once to <path>\r\n",
      "  (Note: for --un, --al, --un-conc, or --al-conc, add '-gz' to the option name, e.g.\r\n",
      "  --un-gz <path>, to gzip compress output, or add '-bz2' to bzip2 compress output.)\r\n",
      "  --quiet            print nothing to stderr except serious errors\r\n",
      "  --met-file <path>  send metrics to file at <path> (off)\r\n",
      "  --met-stderr       send metrics to stderr (off)\r\n",
      "  --met <int>        report internal counters & metrics every <int> secs (1)\r\n",
      "  --no-head          supppress header lines, i.e. lines starting with @\r\n",
      "  --no-sq            supppress @SQ header lines\r\n",
      "  --rg-id <text>     set read group id, reflected in @RG line and RG:Z: opt field\r\n",
      "  --rg <text>        add <text> (\"lab:value\") to @RG line of SAM header.\r\n",
      "                     Note: @RG line only printed when --rg-id is set.\r\n",
      "  --omit-sec-seq     put '*' in SEQ and QUAL fields for secondary alignments.\r\n",
      "\r\n",
      " Performance:\r\n",
      "  -o/--offrate <int> override offrate of index; must be >= index's offrate\r\n",
      "  -p/--threads <int> number of alignment threads to launch (1)\r\n",
      "  --reorder          force SAM output order to match order of input reads\r\n",
      "  --mm               use memory-mapped I/O for index; many 'hisat2's can share\r\n",
      "\r\n",
      " Other:\r\n",
      "  --qc-filter        filter out reads that are bad according to QSEQ filter\r\n",
      "  --seed <int>       seed for random number generator (0)\r\n",
      "  --non-deterministic seed rand. gen. arbitrarily instead of using read attributes\r\n",
      "  --remove-chrname   remove 'chr' from reference names in alignment\r\n",
      "  --add-chrname      add 'chr' to reference names in alignment \r\n",
      "  --version          print version information and quit\r\n",
      "  -h/--help          print this usage message\r\n"
     ]
    }
   ],
   "source": [
    "! hisat2 -h"
   ]
  },
  {
   "cell_type": "markdown",
   "metadata": {},
   "source": [
    "### Sort and convert the SAM files to BAM"
   ]
  },
  {
   "cell_type": "code",
   "execution_count": 7,
   "metadata": {
    "collapsed": true
   },
   "outputs": [],
   "source": [
    "! samtools sort -@ 8 -o ERR188044_chrX.bam ERR188044_chrX.sam\n",
    "! samtools sort -@ 8 -o ERR188104_chrX.bam ERR188104_chrX.sam\n",
    "! samtools sort -@ 8 -o ERR188234_chrX.bam ERR188234_chrX.sam\n",
    "! samtools sort -@ 8 -o ERR188245_chrX.bam ERR188245_chrX.sam\n",
    "! samtools sort -@ 8 -o ERR188257_chrX.bam ERR188257_chrX.sam\n",
    "! samtools sort -@ 8 -o ERR188273_chrX.bam ERR188273_chrX.sam\n",
    "! samtools sort -@ 8 -o ERR188337_chrX.bam ERR188337_chrX.sam\n",
    "! samtools sort -@ 8 -o ERR188383_chrX.bam ERR188383_chrX.sam\n",
    "! samtools sort -@ 8 -o ERR188401_chrX.bam ERR188401_chrX.sam\n",
    "! samtools sort -@ 8 -o ERR188428_chrX.bam ERR188428_chrX.sam\n",
    "! samtools sort -@ 8 -o ERR188454_chrX.bam ERR188454_chrX.sam\n",
    "! samtools sort -@ 8 -o ERR204916_chrX.bam ERR204916_chrX.sam"
   ]
  },
  {
   "cell_type": "markdown",
   "metadata": {},
   "source": [
    "### Assemble and quantify expressed genes and transcripts "
   ]
  },
  {
   "cell_type": "code",
   "execution_count": 1,
   "metadata": {
    "collapsed": false
   },
   "outputs": [
    {
     "name": "stdout",
     "output_type": "stream",
     "text": [
      "CPU times: user 1.01 s, sys: 296 ms, total: 1.31 s\n",
      "Wall time: 1min 50s\n"
     ]
    }
   ],
   "source": [
    "%%time\n",
    "! stringtie -p 4 -G chrX_data/genes/chrX.gtf -o ERR188044_chrX.gtf ERR188044_chrX.bam\n",
    "! stringtie -p 4 -G chrX_data/genes/chrX.gtf -o ERR188104_chrX.gtf ERR188104_chrX.bam\n",
    "! stringtie -p 4 -G chrX_data/genes/chrX.gtf -o ERR188234_chrX.gtf ERR188234_chrX.bam\n",
    "! stringtie -p 4 -G chrX_data/genes/chrX.gtf -o ERR188245_chrX.gtf ERR188245_chrX.bam\n",
    "! stringtie -p 4 -G chrX_data/genes/chrX.gtf -o ERR188257_chrX.gtf ERR188257_chrX.bam\n",
    "! stringtie -p 4 -G chrX_data/genes/chrX.gtf -o ERR188273_chrX.gtf ERR188273_chrX.bam\n",
    "! stringtie -p 4 -G chrX_data/genes/chrX.gtf -o ERR188337_chrX.gtf ERR188337_chrX.bam\n",
    "! stringtie -p 4 -G chrX_data/genes/chrX.gtf -o ERR188383_chrX.gtf ERR188383_chrX.bam\n",
    "! stringtie -p 4 -G chrX_data/genes/chrX.gtf -o ERR188401_chrX.gtf ERR188401_chrX.bam\n",
    "! stringtie -p 4 -G chrX_data/genes/chrX.gtf -o ERR188428_chrX.gtf ERR188428_chrX.bam\n",
    "! stringtie -p 4 -G chrX_data/genes/chrX.gtf -o ERR188454_chrX.gtf ERR188454_chrX.bam\n",
    "! stringtie -p 4 -G chrX_data/genes/chrX.gtf -o ERR204916_chrX.gtf ERR204916_chrX.bam"
   ]
  },
  {
   "cell_type": "markdown",
   "metadata": {},
   "source": [
    "#### General info of stringtie"
   ]
  },
  {
   "cell_type": "code",
   "execution_count": 10,
   "metadata": {
    "collapsed": false
   },
   "outputs": [
    {
     "name": "stdout",
     "output_type": "stream",
     "text": [
      "StringTie v1.3.1c usage:\r\n",
      " stringtie <input.bam ..> [-G <guide_gff>] [-l <label>] [-o <out_gtf>] [-p <cpus>]\r\n",
      "  [-v] [-a <min_anchor_len>] [-m <min_tlen>] [-j <min_anchor_cov>] [-f <min_iso>]\r\n",
      "  [-C <coverage_file_name>] [-c <min_bundle_cov>] [-g <bdist>] [-u]\r\n",
      "  [-e] [-x <seqid,..>] [-A <gene_abund.out>] [-h] {-B | -b <dir_path>} \r\n",
      "Assemble RNA-Seq alignments into potential transcripts.\r\n",
      " Options:\r\n",
      " --version : print just the version at stdout and exit\r\n",
      " -G reference annotation to use for guiding the assembly process (GTF/GFF3)\r\n",
      " -l name prefix for output transcripts (default: STRG)\r\n",
      " -f minimum isoform fraction (default: 0.1)\r\n",
      " -m minimum assembled transcript length (default: 200)\r\n",
      " -o output path/file name for the assembled transcripts GTF (default: stdout)\r\n",
      " -a minimum anchor length for junctions (default: 10)\r\n",
      " -j minimum junction coverage (default: 1)\r\n",
      " -t disable trimming of predicted transcripts based on coverage\r\n",
      "    (default: coverage trimming is enabled)\r\n",
      " -c minimum reads per bp coverage to consider for transcript assembly\r\n",
      "    (default: 2.5)\r\n",
      " -v verbose (log bundle processing details)\r\n",
      " -g gap between read mappings triggering a new bundle (default: 50)\r\n",
      " -C output a file with reference transcripts that are covered by reads\r\n",
      " -M fraction of bundle allowed to be covered by multi-hit reads (default:0.95)\r\n",
      " -p number of threads (CPUs) to use (default: 1)\r\n",
      " -A gene abundance estimation output file\r\n",
      " -B enable output of Ballgown table files which will be created in the\r\n",
      "    same directory as the output GTF (requires -G, -o recommended)\r\n",
      " -b enable output of Ballgown table files but these files will be \r\n",
      "    created under the directory path given as <dir_path>\r\n",
      " -e only estimate the abundance of given reference transcripts (requires -G)\r\n",
      " -x do not assemble any transcripts on the given reference sequence(s)\r\n",
      " -u no multi-mapping correction (default: correction enabled)\r\n",
      " -h print this usage message and exit\r\n",
      "\r\n",
      "Transcript merge usage mode: \r\n",
      "  stringtie --merge [Options] { gtf_list | strg1.gtf ...}\r\n",
      "With this option StringTie will assemble transcripts from multiple\r\n",
      "input files generating a unified non-redundant set of isoforms. In this mode\r\n",
      "the following options are available:\r\n",
      "  -G <guide_gff>   reference annotation to include in the merging (GTF/GFF3)\r\n",
      "  -o <out_gtf>     output file name for the merged transcripts GTF\r\n",
      "                    (default: stdout)\r\n",
      "  -m <min_len>     minimum input transcript length to include in the merge\r\n",
      "                    (default: 50)\r\n",
      "  -c <min_cov>     minimum input transcript coverage to include in the merge\r\n",
      "                    (default: 0)\r\n",
      "  -F <min_fpkm>    minimum input transcript FPKM to include in the merge\r\n",
      "                    (default: 1.0)\r\n",
      "  -T <min_tpm>     minimum input transcript TPM to include in the merge\r\n",
      "                    (default: 1.0)\r\n",
      "  -f <min_iso>     minimum isoform fraction (default: 0.01)\r\n",
      "  -g <gap_len>     gap between transcripts to merge together (default: 250)\r\n",
      "  -i               keep merged transcripts with retained introns; by default\r\n",
      "                   these are not kept unless there is strong evidence for them\r\n",
      "  -l <label>       name prefix for output transcripts (default: MSTRG)\r\n"
     ]
    }
   ],
   "source": [
    "! stringtie -h"
   ]
  },
  {
   "cell_type": "markdown",
   "metadata": {},
   "source": [
    "### Merge transcripts from all samples"
   ]
  },
  {
   "cell_type": "code",
   "execution_count": 4,
   "metadata": {
    "collapsed": false
   },
   "outputs": [
    {
     "name": "stdout",
     "output_type": "stream",
     "text": [
      "CPU times: user 21.1 ms, sys: 10.2 ms, total: 31.3 ms\n",
      "Wall time: 2.26 s\n"
     ]
    }
   ],
   "source": [
    "%%time\n",
    "! stringtie --merge -p 8 -G chrX_data/genes/chrX.gtf -o stringtie_merged.gtf chrX_data/mergelist.txt\n",
    "\n",
    "\n",
    "# Examine how the transcripts compare with the reference annotation (optional):\n",
    "# ! gffcompare –r chrX_data/genes/chrX.gtf –G –o merged stringtie_merged.gtf"
   ]
  },
  {
   "cell_type": "markdown",
   "metadata": {},
   "source": [
    "### Estimate transcript abundances and create table counts for Ballgown"
   ]
  },
  {
   "cell_type": "code",
   "execution_count": 13,
   "metadata": {
    "collapsed": false
   },
   "outputs": [
    {
     "name": "stdout",
     "output_type": "stream",
     "text": [
      "CPU times: user 1.13 s, sys: 337 ms, total: 1.47 s\n",
      "Wall time: 2min 4s\n"
     ]
    }
   ],
   "source": [
    "%%time\n",
    "! stringtie -e -B -p 8 -G stringtie_merged.gtf -o ballgown/ERR188044/ERR188044_chrX.gtf ERR188044_chrX.bam\n",
    "! stringtie -e -B -p 8 -G stringtie_merged.gtf -o ballgown/ERR188104/ERR188104_chrX.gtf ERR188104_chrX.bam\n",
    "! stringtie -e -B -p 8 -G stringtie_merged.gtf -o ballgown/ERR188234/ERR188234_chrX.gtf ERR188234_chrX.bam\n",
    "! stringtie -e -B -p 8 -G stringtie_merged.gtf -o ballgown/ERR188245/ERR188245_chrX.gtf ERR188245_chrX.bam\n",
    "! stringtie -e -B -p 8 -G stringtie_merged.gtf -o ballgown/ERR188257/ERR188257_chrX.gtf ERR188257_chrX.bam\n",
    "! stringtie -e -B -p 8 -G stringtie_merged.gtf -o ballgown/ERR188273/ERR188273_chrX.gtf ERR188273_chrX.bam\n",
    "! stringtie -e -B -p 8 -G stringtie_merged.gtf -o ballgown/ERR188337/ERR188337_chrX.gtf ERR188337_chrX.bam\n",
    "! stringtie -e -B -p 8 -G stringtie_merged.gtf -o ballgown/ERR188383/ERR188383_chrX.gtf ERR188383_chrX.bam\n",
    "! stringtie -e -B -p 8 -G stringtie_merged.gtf -o ballgown/ERR188401/ERR188401_chrX.gtf ERR188401_chrX.bam\n",
    "! stringtie -e -B -p 8 -G stringtie_merged.gtf -o ballgown/ERR188428/ERR188428_chrX.gtf ERR188428_chrX.bam\n",
    "! stringtie -e -B -p 8 -G stringtie_merged.gtf -o ballgown/ERR188454/ERR188454_chrX.gtf ERR188454_chrX.bam\n",
    "! stringtie -e -B -p 8 -G stringtie_merged.gtf -o ballgown/ERR204916/ERR204916_chrX.gtf ERR204916_chrX.bam"
   ]
  },
  {
   "cell_type": "markdown",
   "metadata": {
    "collapsed": true
   },
   "source": [
    "#### Shell script\n",
    "I got a shell script of this pipeline from a friend, makes everything simplier."
   ]
  }
 ],
 "metadata": {
  "anaconda-cloud": {},
  "kernelspec": {
   "display_name": "Python [conda root]",
   "language": "python",
   "name": "conda-root-py"
  },
  "language_info": {
   "codemirror_mode": {
    "name": "ipython",
    "version": 3
   },
   "file_extension": ".py",
   "mimetype": "text/x-python",
   "name": "python",
   "nbconvert_exporter": "python",
   "pygments_lexer": "ipython3",
   "version": "3.5.2"
  }
 },
 "nbformat": 4,
 "nbformat_minor": 1
}
